{
 "metadata": {
  "language_info": {
   "codemirror_mode": {
    "name": "ipython",
    "version": 3
   },
   "file_extension": ".py",
   "mimetype": "text/x-python",
   "name": "python",
   "nbconvert_exporter": "python",
   "pygments_lexer": "ipython3",
   "version": "3.9.0-final"
  },
  "orig_nbformat": 2,
  "kernelspec": {
   "name": "python3",
   "display_name": "Python 3",
   "language": "python"
  }
 },
 "nbformat": 4,
 "nbformat_minor": 2,
 "cells": [
  {
   "cell_type": "code",
   "execution_count": 48,
   "metadata": {},
   "outputs": [],
   "source": [
    "import sys, os\n",
    "import pandas as pd\n",
    "from tqdm import tqdm\n",
    "import re"
   ]
  },
  {
   "source": [
    "## Leitura dos Dados"
   ],
   "cell_type": "markdown",
   "metadata": {}
  },
  {
   "cell_type": "code",
   "execution_count": 49,
   "metadata": {},
   "outputs": [],
   "source": [
    "fake_path = os.path.join(os.getcwd(),r'..\\Fake.br-Corpus-master\\full_texts\\fake')\n",
    "true_path = os.path.join(os.getcwd(),r'..\\Fake.br-Corpus-master\\full_texts\\true')"
   ]
  },
  {
   "source": [
    "Módulo que constroi o dataframe de amostras rotuladas"
   ],
   "cell_type": "markdown",
   "metadata": {}
  },
  {
   "cell_type": "code",
   "execution_count": 50,
   "metadata": {},
   "outputs": [],
   "source": [
    "# df_corpus = pd.DataFrame(columns=['sample','label'])\n",
    "\n",
    "# for filename in tqdm(os.listdir(fake_path)):\n",
    "#     f = open(os.path.join(fake_path,filename), encoding=\"utf8\")\n",
    "#     sample = f.read()\n",
    "\n",
    "#     df = pd.DataFrame([[sample,1]],columns=['sample','label'])\n",
    "\n",
    "#     df_corpus = df_corpus.append(df, ignore_index=True)\n",
    "\n",
    "# for filename in tqdm(os.listdir(true_path)):\n",
    "#     f = open(os.path.join(true_path,filename), encoding=\"utf8\")\n",
    "#     sample = f.read()\n",
    "\n",
    "#     df = pd.DataFrame([[sample,0]],columns=['sample','label'])\n",
    "\n",
    "#     df_corpus = df_corpus.append(df, ignore_index=True)\n",
    "\n",
    "# df_corpus.to_pickle('./Dados/raw_corpus.pkl')"
   ]
  },
  {
   "cell_type": "code",
   "execution_count": 51,
   "metadata": {},
   "outputs": [],
   "source": [
    "df_corpus = pd.read_pickle('./Dados/raw_corpus.pkl')"
   ]
  },
  {
   "source": [
    "# Pré Processamento"
   ],
   "cell_type": "markdown",
   "metadata": {}
  },
  {
   "source": [
    "Torna todas as letras minúsculas"
   ],
   "cell_type": "markdown",
   "metadata": {}
  },
  {
   "cell_type": "code",
   "execution_count": 53,
   "metadata": {},
   "outputs": [],
   "source": [
    "df_corpus['sample'] = df_corpus['sample'].apply(lambda x: x.lower())"
   ]
  },
  {
   "source": [
    "Substitui todos os dígitos por '0'"
   ],
   "cell_type": "markdown",
   "metadata": {}
  },
  {
   "cell_type": "code",
   "execution_count": 54,
   "metadata": {},
   "outputs": [],
   "source": [
    "df_corpus['sample'] = df_corpus['sample'].apply(lambda x: re.sub(r'\\d+', '0', x))"
   ]
  },
  {
   "source": [
    "Substitui todos as URLs por 'URL'"
   ],
   "cell_type": "markdown",
   "metadata": {}
  },
  {
   "cell_type": "code",
   "execution_count": 55,
   "metadata": {},
   "outputs": [],
   "source": [
    "df_corpus['sample'] = df_corpus['sample'].apply(lambda x: re.sub(r'http\\S+', 'URL', x))"
   ]
  },
  {
   "source": [
    "Substitui todos os e-mails por 'EMAIL'"
   ],
   "cell_type": "markdown",
   "metadata": {}
  },
  {
   "cell_type": "code",
   "execution_count": 56,
   "metadata": {},
   "outputs": [],
   "source": [
    "df_corpus['sample'] = df_corpus['sample'].apply(lambda x: re.sub(r'\\S+@\\S+', 'EMAIL', x))"
   ]
  },
  {
   "cell_type": "code",
   "execution_count": 57,
   "metadata": {},
   "outputs": [
    {
     "output_type": "execute_result",
     "data": {
      "text/plain": [
       "                                                 sample label\n",
       "0     kátia abreu diz que vai colocar sua expulsão e...     1\n",
       "1     dr. ray peita bolsonaro, chama-o de conservad...     1\n",
       "2     reinaldo azevedo desmascarado pela polícia fed...     1\n",
       "3     relatório assustador do bndes mostra dinheiro ...     1\n",
       "4     radialista americano fala sobre o pt: \"eles ve...     1\n",
       "...                                                 ...   ...\n",
       "7195  para jornal britânico, ação contra lula na lav...     0\n",
       "7196  temer diz que acionou pf e cade para investiga...     0\n",
       "7197  os obstáculos políticos de temer em 0. especia...     0\n",
       "7198  sexta-feira, 0 de setembro de 0. boa noite! aq...     0\n",
       "7199  'não me envolvo em política', diz brasileiro q...     0\n",
       "\n",
       "[7200 rows x 2 columns]"
      ],
      "text/html": "<div>\n<style scoped>\n    .dataframe tbody tr th:only-of-type {\n        vertical-align: middle;\n    }\n\n    .dataframe tbody tr th {\n        vertical-align: top;\n    }\n\n    .dataframe thead th {\n        text-align: right;\n    }\n</style>\n<table border=\"1\" class=\"dataframe\">\n  <thead>\n    <tr style=\"text-align: right;\">\n      <th></th>\n      <th>sample</th>\n      <th>label</th>\n    </tr>\n  </thead>\n  <tbody>\n    <tr>\n      <th>0</th>\n      <td>kátia abreu diz que vai colocar sua expulsão e...</td>\n      <td>1</td>\n    </tr>\n    <tr>\n      <th>1</th>\n      <td>dr. ray peita bolsonaro, chama-o de conservad...</td>\n      <td>1</td>\n    </tr>\n    <tr>\n      <th>2</th>\n      <td>reinaldo azevedo desmascarado pela polícia fed...</td>\n      <td>1</td>\n    </tr>\n    <tr>\n      <th>3</th>\n      <td>relatório assustador do bndes mostra dinheiro ...</td>\n      <td>1</td>\n    </tr>\n    <tr>\n      <th>4</th>\n      <td>radialista americano fala sobre o pt: \"eles ve...</td>\n      <td>1</td>\n    </tr>\n    <tr>\n      <th>...</th>\n      <td>...</td>\n      <td>...</td>\n    </tr>\n    <tr>\n      <th>7195</th>\n      <td>para jornal britânico, ação contra lula na lav...</td>\n      <td>0</td>\n    </tr>\n    <tr>\n      <th>7196</th>\n      <td>temer diz que acionou pf e cade para investiga...</td>\n      <td>0</td>\n    </tr>\n    <tr>\n      <th>7197</th>\n      <td>os obstáculos políticos de temer em 0. especia...</td>\n      <td>0</td>\n    </tr>\n    <tr>\n      <th>7198</th>\n      <td>sexta-feira, 0 de setembro de 0. boa noite! aq...</td>\n      <td>0</td>\n    </tr>\n    <tr>\n      <th>7199</th>\n      <td>'não me envolvo em política', diz brasileiro q...</td>\n      <td>0</td>\n    </tr>\n  </tbody>\n</table>\n<p>7200 rows × 2 columns</p>\n</div>"
     },
     "metadata": {},
     "execution_count": 57
    }
   ],
   "source": [
    "df_corpus"
   ]
  },
  {
   "cell_type": "code",
   "execution_count": null,
   "metadata": {},
   "outputs": [],
   "source": []
  }
 ]
}