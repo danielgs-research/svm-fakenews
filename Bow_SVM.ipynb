{
 "metadata": {
  "language_info": {
   "codemirror_mode": {
    "name": "ipython",
    "version": 3
   },
   "file_extension": ".py",
   "mimetype": "text/x-python",
   "name": "python",
   "nbconvert_exporter": "python",
   "pygments_lexer": "ipython3",
   "version": "3.9.1-final"
  },
  "orig_nbformat": 2,
  "kernelspec": {
   "name": "python3",
   "display_name": "Python 3.9.1 64-bit",
   "metadata": {
    "interpreter": {
     "hash": "39828fbbd1591ddfb0a06e02690d5707b6533254050955809bd326ef2be32160"
    }
   }
  }
 },
 "nbformat": 4,
 "nbformat_minor": 2,
 "cells": [
  {
   "cell_type": "code",
   "execution_count": 49,
   "metadata": {},
   "outputs": [],
   "source": [
    "import sys, os\n",
    "import pandas as pd\n",
    "import numpy as np\n",
    "\n",
    "from nltk.tokenize import wordpunct_tokenize\n",
    "from sklearn.feature_extraction.text import CountVectorizer\n",
    "from sklearn.feature_extraction.text import TfidfVectorizer\n",
    "from sklearn.model_selection import train_test_split\n",
    "\n",
    "import nltk\n",
    "\n",
    "from sklearn.svm import SVC\n",
    "from sklearn.model_selection import cross_validate\n",
    "\n",
    "from sklearn.pipeline import Pipeline\n",
    "from sklearn.model_selection import GridSearchCV\n",
    "\n",
    "import plotly.express as px\n",
    "import plotly.graph_objects as go"
   ]
  },
  {
   "cell_type": "code",
   "execution_count": 20,
   "metadata": {},
   "outputs": [],
   "source": [
    "pd.set_option('display.max_columns',210)\n",
    "pd.set_option('display.max_rows',100)"
   ]
  },
  {
   "cell_type": "code",
   "execution_count": 16,
   "metadata": {},
   "outputs": [],
   "source": [
    "data_path = './Dados/'\n",
    "result_path = './Resultados/'"
   ]
  },
  {
   "cell_type": "code",
   "execution_count": 2,
   "metadata": {},
   "outputs": [],
   "source": [
    "df_corpus = pd.read_pickle(os.path.join(data_path,'preprocessed_corpus.pkl'))"
   ]
  },
  {
   "cell_type": "code",
   "execution_count": 3,
   "metadata": {},
   "outputs": [],
   "source": [
    "corpus = list(df_corpus['sample'])\n",
    "label = list(df_corpus['label'])"
   ]
  },
  {
   "source": [
    "## Dependências"
   ],
   "cell_type": "markdown",
   "metadata": {}
  },
  {
   "cell_type": "code",
   "execution_count": 4,
   "metadata": {},
   "outputs": [
    {
     "output_type": "stream",
     "name": "stderr",
     "text": [
      "[nltk_data] Downloading package stopwords to\n",
      "[nltk_data]     C:\\Users\\ELOGROUP\\AppData\\Roaming\\nltk_data...\n",
      "[nltk_data]   Package stopwords is already up-to-date!\n",
      "[nltk_data] Downloading package rslp to\n",
      "[nltk_data]     C:\\Users\\ELOGROUP\\AppData\\Roaming\\nltk_data...\n",
      "[nltk_data]   Package rslp is already up-to-date!\n"
     ]
    }
   ],
   "source": [
    "# Pacote de stop words em português\n",
    "nltk.download('stopwords')\n",
    "stopwords = nltk.corpus.stopwords.words('portuguese')\n",
    "\n",
    "# Pacote de stemmers em portguês\n",
    "nltk.download('rslp')\n",
    "stemmer = nltk.stem.RSLPStemmer()\n",
    "\n",
    "# Stemmer\n",
    "analyzer = CountVectorizer().build_analyzer()\n",
    "\n",
    "def stemmed_words(doc):\n",
    "    return (stemmer.stem(w) for w in analyzer(doc))"
   ]
  },
  {
   "source": [
    "## Separação dos dados"
   ],
   "cell_type": "markdown",
   "metadata": {}
  },
  {
   "source": [
    "Os dados serão separados segundo os seguintes critérios:\n",
    "* 20% conjunto de teste (1440 amostras)\n",
    "* 80% conjunto de treinamento (5760 amostras)\n",
    "    * 1/3 conjunto de validação (1920 amostras)\n",
    "    * 2/3 conjunto de treino de algoritmo (3840 amostras)\n",
    "\n",
    "Obs: a subdivisão do conjunto de treinamento é feita dentro do GridSearch"
   ],
   "cell_type": "markdown",
   "metadata": {}
  },
  {
   "cell_type": "code",
   "execution_count": 5,
   "metadata": {},
   "outputs": [],
   "source": [
    "X_train, X_test, y_train, y_test = train_test_split(corpus, label, test_size=0.2, random_state=1)"
   ]
  },
  {
   "source": [
    "## Bag of Words"
   ],
   "cell_type": "markdown",
   "metadata": {}
  },
  {
   "cell_type": "code",
   "execution_count": 78,
   "metadata": {},
   "outputs": [],
   "source": [
    "Tfid = []\n",
    "\n",
    "Tfid.append(TfidfVectorizer(lowercase  = False,\n",
    "                            analyzer   = 'word',\n",
    "                            stop_words = None,\n",
    "                            max_features = None))\n",
    "\n",
    "Tfid.append(TfidfVectorizer(lowercase  = False,\n",
    "                            analyzer   = 'word',\n",
    "                            stop_words = stopwords,\n",
    "                            max_features = None))\n",
    "\n",
    "Tfid.append(TfidfVectorizer(lowercase  = False,\n",
    "                            analyzer   = stemmed_words,\n",
    "                            stop_words = stopwords,\n",
    "                            max_features = None))\n",
    "\n",
    "Tfid.append(TfidfVectorizer(lowercase  = False,\n",
    "                            analyzer   = 'word',\n",
    "                            stop_words = None,\n",
    "                            max_features = 200))\n",
    "\n",
    "Tfid.append(TfidfVectorizer(lowercase  = False,\n",
    "                            analyzer   = 'word',\n",
    "                            stop_words = stopwords,\n",
    "                            max_features = 200))\n",
    "\n",
    "Tfid.append(TfidfVectorizer(lowercase  = False,\n",
    "                            analyzer   = stemmed_words,\n",
    "                            stop_words = stopwords,\n",
    "                            max_features = 200))\n",
    "\n",
    "transform_name = ['Bow','Bow_stopwords','Bow_stopwords_stemming','trunc_Bow','trunc_Bow_stopwords','trunc_Bow_stopwords_stemming']"
   ]
  },
  {
   "source": [
    "## SVM"
   ],
   "cell_type": "markdown",
   "metadata": {}
  },
  {
   "cell_type": "code",
   "execution_count": 79,
   "metadata": {},
   "outputs": [],
   "source": [
    "# Set the parameters by cross-validation\n",
    "param_grid = [{'SVM__kernel': ['linear'],\n",
    "               'SVM__C': [2e-3, 2e-1, 2e1, 2e3, 2e5, 2e7, 2e9, 2e11, 2e13, 2e15]},\n",
    "\n",
    "              {'SVM__kernel': ['rbf'], \n",
    "               'SVM__gamma': [1e-1, 1e-2, 1e-3, 1e-4], \n",
    "               'SVM__C': [2e-3, 2e-1, 2e1, 2e3, 2e5, 2e7, 2e9, 2e11, 2e13, 2e15]}]"
   ]
  },
  {
   "source": [
    "## Métricas"
   ],
   "cell_type": "markdown",
   "metadata": {}
  },
  {
   "cell_type": "code",
   "execution_count": 80,
   "metadata": {},
   "outputs": [],
   "source": [
    "scoring = ['accuracy','f1','precision','recall']"
   ]
  },
  {
   "source": [
    "## Treinamento"
   ],
   "cell_type": "markdown",
   "metadata": {}
  },
  {
   "source": [
    "Treinamento utilizando o bag of words completo"
   ],
   "cell_type": "markdown",
   "metadata": {}
  },
  {
   "cell_type": "code",
   "execution_count": 14,
   "metadata": {
    "tags": [
     "outputPrepend"
    ]
   },
   "outputs": [
    {
     "output_type": "stream",
     "name": "stdout",
     "text": [
      "..SVM__C=200000.0, SVM__gamma=0.1, SVM__kernel=rbf; total time=  20.7s\n",
      "[CV] END ...SVM__C=200000.0, SVM__gamma=0.1, SVM__kernel=rbf; total time=  20.8s\n",
      "[CV] END ..SVM__C=200000.0, SVM__gamma=0.01, SVM__kernel=rbf; total time=  20.2s\n",
      "[CV] END ..SVM__C=200000.0, SVM__gamma=0.01, SVM__kernel=rbf; total time=  19.7s\n",
      "[CV] END ..SVM__C=200000.0, SVM__gamma=0.01, SVM__kernel=rbf; total time=  19.6s\n",
      "[CV] END .SVM__C=200000.0, SVM__gamma=0.001, SVM__kernel=rbf; total time=  20.4s\n",
      "[CV] END .SVM__C=200000.0, SVM__gamma=0.001, SVM__kernel=rbf; total time=  22.1s\n",
      "[CV] END .SVM__C=200000.0, SVM__gamma=0.001, SVM__kernel=rbf; total time=  22.8s\n",
      "[CV] END SVM__C=200000.0, SVM__gamma=0.0001, SVM__kernel=rbf; total time=  20.2s\n",
      "[CV] END SVM__C=200000.0, SVM__gamma=0.0001, SVM__kernel=rbf; total time=  20.0s\n",
      "[CV] END SVM__C=200000.0, SVM__gamma=0.0001, SVM__kernel=rbf; total time=  19.9s\n",
      "[CV] END .SVM__C=20000000.0, SVM__gamma=0.1, SVM__kernel=rbf; total time=  21.6s\n",
      "[CV] END .SVM__C=20000000.0, SVM__gamma=0.1, SVM__kernel=rbf; total time=  20.8s\n",
      "[CV] END .SVM__C=20000000.0, SVM__gamma=0.1, SVM__kernel=rbf; total time=  20.7s\n",
      "[CV] END SVM__C=20000000.0, SVM__gamma=0.01, SVM__kernel=rbf; total time=  20.3s\n",
      "[CV] END SVM__C=20000000.0, SVM__gamma=0.01, SVM__kernel=rbf; total time=  20.0s\n",
      "[CV] END SVM__C=20000000.0, SVM__gamma=0.01, SVM__kernel=rbf; total time=  19.8s\n",
      "[CV] END SVM__C=20000000.0, SVM__gamma=0.001, SVM__kernel=rbf; total time=  21.0s\n",
      "[CV] END SVM__C=20000000.0, SVM__gamma=0.001, SVM__kernel=rbf; total time=  23.8s\n",
      "[CV] END SVM__C=20000000.0, SVM__gamma=0.001, SVM__kernel=rbf; total time=  19.9s\n",
      "[CV] END SVM__C=20000000.0, SVM__gamma=0.0001, SVM__kernel=rbf; total time=  20.7s\n",
      "[CV] END SVM__C=20000000.0, SVM__gamma=0.0001, SVM__kernel=rbf; total time=  20.0s\n",
      "[CV] END SVM__C=20000000.0, SVM__gamma=0.0001, SVM__kernel=rbf; total time=  19.6s\n",
      "[CV] END SVM__C=2000000000.0, SVM__gamma=0.1, SVM__kernel=rbf; total time=  21.4s\n",
      "[CV] END SVM__C=2000000000.0, SVM__gamma=0.1, SVM__kernel=rbf; total time=  20.7s\n",
      "[CV] END SVM__C=2000000000.0, SVM__gamma=0.1, SVM__kernel=rbf; total time=  20.7s\n",
      "[CV] END SVM__C=2000000000.0, SVM__gamma=0.01, SVM__kernel=rbf; total time=  20.2s\n",
      "[CV] END SVM__C=2000000000.0, SVM__gamma=0.01, SVM__kernel=rbf; total time=  19.8s\n",
      "[CV] END SVM__C=2000000000.0, SVM__gamma=0.01, SVM__kernel=rbf; total time=  19.8s\n",
      "[CV] END SVM__C=2000000000.0, SVM__gamma=0.001, SVM__kernel=rbf; total time=  20.8s\n",
      "[CV] END SVM__C=2000000000.0, SVM__gamma=0.001, SVM__kernel=rbf; total time=  21.3s\n",
      "[CV] END SVM__C=2000000000.0, SVM__gamma=0.001, SVM__kernel=rbf; total time=  21.6s\n",
      "[CV] END SVM__C=2000000000.0, SVM__gamma=0.0001, SVM__kernel=rbf; total time=  20.5s\n",
      "[CV] END SVM__C=2000000000.0, SVM__gamma=0.0001, SVM__kernel=rbf; total time=  19.9s\n",
      "[CV] END SVM__C=2000000000.0, SVM__gamma=0.0001, SVM__kernel=rbf; total time=  20.1s\n",
      "[CV] END SVM__C=200000000000.0, SVM__gamma=0.1, SVM__kernel=rbf; total time=  21.4s\n",
      "[CV] END SVM__C=200000000000.0, SVM__gamma=0.1, SVM__kernel=rbf; total time=  22.5s\n",
      "[CV] END SVM__C=200000000000.0, SVM__gamma=0.1, SVM__kernel=rbf; total time=  21.5s\n",
      "[CV] END SVM__C=200000000000.0, SVM__gamma=0.01, SVM__kernel=rbf; total time=  21.0s\n",
      "[CV] END SVM__C=200000000000.0, SVM__gamma=0.01, SVM__kernel=rbf; total time=  19.8s\n",
      "[CV] END SVM__C=200000000000.0, SVM__gamma=0.01, SVM__kernel=rbf; total time=  20.0s\n",
      "[CV] END SVM__C=200000000000.0, SVM__gamma=0.001, SVM__kernel=rbf; total time=  20.7s\n",
      "[CV] END SVM__C=200000000000.0, SVM__gamma=0.001, SVM__kernel=rbf; total time=  25.1s\n",
      "[CV] END SVM__C=200000000000.0, SVM__gamma=0.001, SVM__kernel=rbf; total time=  25.6s\n",
      "[CV] END SVM__C=200000000000.0, SVM__gamma=0.0001, SVM__kernel=rbf; total time=  20.5s\n",
      "[CV] END SVM__C=200000000000.0, SVM__gamma=0.0001, SVM__kernel=rbf; total time=  24.0s\n",
      "[CV] END SVM__C=200000000000.0, SVM__gamma=0.0001, SVM__kernel=rbf; total time=  21.6s\n",
      "[CV] END SVM__C=20000000000000.0, SVM__gamma=0.1, SVM__kernel=rbf; total time=  21.4s\n",
      "[CV] END SVM__C=20000000000000.0, SVM__gamma=0.1, SVM__kernel=rbf; total time=  21.0s\n",
      "[CV] END SVM__C=20000000000000.0, SVM__gamma=0.1, SVM__kernel=rbf; total time=  20.8s\n",
      "[CV] END SVM__C=20000000000000.0, SVM__gamma=0.01, SVM__kernel=rbf; total time=  20.8s\n",
      "[CV] END SVM__C=20000000000000.0, SVM__gamma=0.01, SVM__kernel=rbf; total time=  20.2s\n",
      "[CV] END SVM__C=20000000000000.0, SVM__gamma=0.01, SVM__kernel=rbf; total time=  22.5s\n",
      "[CV] END SVM__C=20000000000000.0, SVM__gamma=0.001, SVM__kernel=rbf; total time=  21.0s\n",
      "[CV] END SVM__C=20000000000000.0, SVM__gamma=0.001, SVM__kernel=rbf; total time=  22.2s\n",
      "[CV] END SVM__C=20000000000000.0, SVM__gamma=0.001, SVM__kernel=rbf; total time=  24.0s\n",
      "[CV] END SVM__C=20000000000000.0, SVM__gamma=0.0001, SVM__kernel=rbf; total time=  23.0s\n",
      "[CV] END SVM__C=20000000000000.0, SVM__gamma=0.0001, SVM__kernel=rbf; total time=  26.2s\n",
      "[CV] END SVM__C=20000000000000.0, SVM__gamma=0.0001, SVM__kernel=rbf; total time=  21.3s\n",
      "[CV] END SVM__C=2000000000000000.0, SVM__gamma=0.1, SVM__kernel=rbf; total time=  21.7s\n",
      "[CV] END SVM__C=2000000000000000.0, SVM__gamma=0.1, SVM__kernel=rbf; total time=  24.9s\n",
      "[CV] END SVM__C=2000000000000000.0, SVM__gamma=0.1, SVM__kernel=rbf; total time=  23.3s\n",
      "[CV] END SVM__C=2000000000000000.0, SVM__gamma=0.01, SVM__kernel=rbf; total time=  20.3s\n",
      "[CV] END SVM__C=2000000000000000.0, SVM__gamma=0.01, SVM__kernel=rbf; total time=  20.1s\n",
      "[CV] END SVM__C=2000000000000000.0, SVM__gamma=0.01, SVM__kernel=rbf; total time=  20.5s\n",
      "[CV] END SVM__C=2000000000000000.0, SVM__gamma=0.001, SVM__kernel=rbf; total time=  21.1s\n",
      "[CV] END SVM__C=2000000000000000.0, SVM__gamma=0.001, SVM__kernel=rbf; total time=  20.5s\n",
      "[CV] END SVM__C=2000000000000000.0, SVM__gamma=0.001, SVM__kernel=rbf; total time=  20.3s\n",
      "[CV] END SVM__C=2000000000000000.0, SVM__gamma=0.0001, SVM__kernel=rbf; total time=  20.6s\n",
      "[CV] END SVM__C=2000000000000000.0, SVM__gamma=0.0001, SVM__kernel=rbf; total time=  22.4s\n",
      "[CV] END SVM__C=2000000000000000.0, SVM__gamma=0.0001, SVM__kernel=rbf; total time=  25.7s\n",
      "\n",
      "Modelo 1 treinado!\n",
      "\n",
      "Melhor estimador:\n",
      "\n",
      "Pipeline(steps=[('Bow_stopwords',\n",
      "                 TfidfVectorizer(lowercase=False,\n",
      "                                 stop_words=['de', 'a', 'o', 'que', 'e', 'é',\n",
      "                                             'do', 'da', 'em', 'um', 'para',\n",
      "                                             'com', 'não', 'uma', 'os', 'no',\n",
      "                                             'se', 'na', 'por', 'mais', 'as',\n",
      "                                             'dos', 'como', 'mas', 'ao', 'ele',\n",
      "                                             'das', 'à', 'seu', 'sua', ...])),\n",
      "                ('SVM', SVC(C=2000.0, gamma=0.01))])\n",
      "Salvando resultados... OK \n",
      "\n",
      "\n",
      "***************************\n",
      "\n",
      "Treinando modelo 2...\n",
      "\n",
      "Fitting 3 folds for each of 50 candidates, totalling 150 fits\n",
      "[CV] END ...................SVM__C=0.002, SVM__kernel=linear; total time= 2.6min\n",
      "[CV] END ...................SVM__C=0.002, SVM__kernel=linear; total time= 2.7min\n",
      "[CV] END ...................SVM__C=0.002, SVM__kernel=linear; total time= 2.4min\n",
      "[CV] END .....................SVM__C=0.2, SVM__kernel=linear; total time= 2.1min\n",
      "[CV] END .....................SVM__C=0.2, SVM__kernel=linear; total time= 2.0min\n",
      "[CV] END .....................SVM__C=0.2, SVM__kernel=linear; total time= 2.2min\n",
      "[CV] END ....................SVM__C=20.0, SVM__kernel=linear; total time= 2.1min\n",
      "[CV] END ....................SVM__C=20.0, SVM__kernel=linear; total time= 2.0min\n",
      "[CV] END ....................SVM__C=20.0, SVM__kernel=linear; total time= 2.1min\n",
      "[CV] END ..................SVM__C=2000.0, SVM__kernel=linear; total time= 2.3min\n",
      "[CV] END ..................SVM__C=2000.0, SVM__kernel=linear; total time= 1.9min\n",
      "[CV] END ..................SVM__C=2000.0, SVM__kernel=linear; total time= 2.0min\n",
      "[CV] END ................SVM__C=200000.0, SVM__kernel=linear; total time= 2.0min\n",
      "[CV] END ................SVM__C=200000.0, SVM__kernel=linear; total time= 2.0min\n",
      "[CV] END ................SVM__C=200000.0, SVM__kernel=linear; total time= 2.0min\n",
      "[CV] END ..............SVM__C=20000000.0, SVM__kernel=linear; total time= 2.4min\n",
      "[CV] END ..............SVM__C=20000000.0, SVM__kernel=linear; total time= 1.9min\n",
      "[CV] END ..............SVM__C=20000000.0, SVM__kernel=linear; total time= 2.0min\n",
      "[CV] END ............SVM__C=2000000000.0, SVM__kernel=linear; total time= 1.9min\n",
      "[CV] END ............SVM__C=2000000000.0, SVM__kernel=linear; total time= 1.9min\n",
      "[CV] END ............SVM__C=2000000000.0, SVM__kernel=linear; total time= 2.0min\n",
      "[CV] END ..........SVM__C=200000000000.0, SVM__kernel=linear; total time= 2.0min\n",
      "[CV] END ..........SVM__C=200000000000.0, SVM__kernel=linear; total time= 2.0min\n",
      "[CV] END ..........SVM__C=200000000000.0, SVM__kernel=linear; total time= 1.9min\n",
      "[CV] END ........SVM__C=20000000000000.0, SVM__kernel=linear; total time= 1.9min\n",
      "[CV] END ........SVM__C=20000000000000.0, SVM__kernel=linear; total time= 1.9min\n",
      "[CV] END ........SVM__C=20000000000000.0, SVM__kernel=linear; total time= 1.8min\n",
      "[CV] END ......SVM__C=2000000000000000.0, SVM__kernel=linear; total time= 1.9min\n",
      "[CV] END ......SVM__C=2000000000000000.0, SVM__kernel=linear; total time= 2.0min\n",
      "[CV] END ......SVM__C=2000000000000000.0, SVM__kernel=linear; total time= 2.2min\n",
      "[CV] END ......SVM__C=0.002, SVM__gamma=0.1, SVM__kernel=rbf; total time= 2.7min\n",
      "[CV] END ......SVM__C=0.002, SVM__gamma=0.1, SVM__kernel=rbf; total time= 2.7min\n",
      "[CV] END ......SVM__C=0.002, SVM__gamma=0.1, SVM__kernel=rbf; total time= 2.8min\n",
      "[CV] END .....SVM__C=0.002, SVM__gamma=0.01, SVM__kernel=rbf; total time= 2.8min\n",
      "[CV] END .....SVM__C=0.002, SVM__gamma=0.01, SVM__kernel=rbf; total time= 2.7min\n",
      "[CV] END .....SVM__C=0.002, SVM__gamma=0.01, SVM__kernel=rbf; total time= 2.7min\n",
      "[CV] END ....SVM__C=0.002, SVM__gamma=0.001, SVM__kernel=rbf; total time= 2.7min\n",
      "[CV] END ....SVM__C=0.002, SVM__gamma=0.001, SVM__kernel=rbf; total time= 2.8min\n",
      "[CV] END ....SVM__C=0.002, SVM__gamma=0.001, SVM__kernel=rbf; total time= 2.9min\n",
      "[CV] END ...SVM__C=0.002, SVM__gamma=0.0001, SVM__kernel=rbf; total time= 2.9min\n",
      "[CV] END ...SVM__C=0.002, SVM__gamma=0.0001, SVM__kernel=rbf; total time= 3.1min\n",
      "[CV] END ...SVM__C=0.002, SVM__gamma=0.0001, SVM__kernel=rbf; total time= 3.1min\n",
      "[CV] END ........SVM__C=0.2, SVM__gamma=0.1, SVM__kernel=rbf; total time= 2.6min\n",
      "[CV] END ........SVM__C=0.2, SVM__gamma=0.1, SVM__kernel=rbf; total time= 2.5min\n",
      "[CV] END ........SVM__C=0.2, SVM__gamma=0.1, SVM__kernel=rbf; total time= 2.6min\n",
      "[CV] END .......SVM__C=0.2, SVM__gamma=0.01, SVM__kernel=rbf; total time= 2.8min\n",
      "[CV] END .......SVM__C=0.2, SVM__gamma=0.01, SVM__kernel=rbf; total time= 2.8min\n",
      "[CV] END .......SVM__C=0.2, SVM__gamma=0.01, SVM__kernel=rbf; total time= 2.6min\n",
      "[CV] END ......SVM__C=0.2, SVM__gamma=0.001, SVM__kernel=rbf; total time= 2.8min\n",
      "[CV] END ......SVM__C=0.2, SVM__gamma=0.001, SVM__kernel=rbf; total time= 2.6min\n",
      "[CV] END ......SVM__C=0.2, SVM__gamma=0.001, SVM__kernel=rbf; total time= 2.5min\n",
      "[CV] END .....SVM__C=0.2, SVM__gamma=0.0001, SVM__kernel=rbf; total time= 2.4min\n",
      "[CV] END .....SVM__C=0.2, SVM__gamma=0.0001, SVM__kernel=rbf; total time= 2.6min\n",
      "[CV] END .....SVM__C=0.2, SVM__gamma=0.0001, SVM__kernel=rbf; total time= 2.5min\n",
      "[CV] END .......SVM__C=20.0, SVM__gamma=0.1, SVM__kernel=rbf; total time= 2.0min\n",
      "[CV] END .......SVM__C=20.0, SVM__gamma=0.1, SVM__kernel=rbf; total time= 2.0min\n",
      "[CV] END .......SVM__C=20.0, SVM__gamma=0.1, SVM__kernel=rbf; total time= 2.0min\n",
      "[CV] END ......SVM__C=20.0, SVM__gamma=0.01, SVM__kernel=rbf; total time= 2.0min\n",
      "[CV] END ......SVM__C=20.0, SVM__gamma=0.01, SVM__kernel=rbf; total time= 2.1min\n",
      "[CV] END ......SVM__C=20.0, SVM__gamma=0.01, SVM__kernel=rbf; total time= 2.0min\n",
      "[CV] END .....SVM__C=20.0, SVM__gamma=0.001, SVM__kernel=rbf; total time= 2.1min\n",
      "[CV] END .....SVM__C=20.0, SVM__gamma=0.001, SVM__kernel=rbf; total time= 2.2min\n",
      "[CV] END .....SVM__C=20.0, SVM__gamma=0.001, SVM__kernel=rbf; total time= 2.2min\n",
      "[CV] END ....SVM__C=20.0, SVM__gamma=0.0001, SVM__kernel=rbf; total time= 2.5min\n",
      "[CV] END ....SVM__C=20.0, SVM__gamma=0.0001, SVM__kernel=rbf; total time= 2.5min\n",
      "[CV] END ....SVM__C=20.0, SVM__gamma=0.0001, SVM__kernel=rbf; total time= 2.5min\n",
      "[CV] END .....SVM__C=2000.0, SVM__gamma=0.1, SVM__kernel=rbf; total time= 2.0min\n",
      "[CV] END .....SVM__C=2000.0, SVM__gamma=0.1, SVM__kernel=rbf; total time= 2.0min\n",
      "[CV] END .....SVM__C=2000.0, SVM__gamma=0.1, SVM__kernel=rbf; total time= 2.0min\n",
      "[CV] END ....SVM__C=2000.0, SVM__gamma=0.01, SVM__kernel=rbf; total time= 2.0min\n",
      "[CV] END ....SVM__C=2000.0, SVM__gamma=0.01, SVM__kernel=rbf; total time= 2.0min\n",
      "[CV] END ....SVM__C=2000.0, SVM__gamma=0.01, SVM__kernel=rbf; total time= 1.9min\n",
      "[CV] END ...SVM__C=2000.0, SVM__gamma=0.001, SVM__kernel=rbf; total time= 1.9min\n",
      "[CV] END ...SVM__C=2000.0, SVM__gamma=0.001, SVM__kernel=rbf; total time= 1.9min\n",
      "[CV] END ...SVM__C=2000.0, SVM__gamma=0.001, SVM__kernel=rbf; total time= 2.0min\n",
      "[CV] END ..SVM__C=2000.0, SVM__gamma=0.0001, SVM__kernel=rbf; total time= 2.0min\n",
      "[CV] END ..SVM__C=2000.0, SVM__gamma=0.0001, SVM__kernel=rbf; total time= 2.1min\n",
      "[CV] END ..SVM__C=2000.0, SVM__gamma=0.0001, SVM__kernel=rbf; total time= 2.0min\n",
      "[CV] END ...SVM__C=200000.0, SVM__gamma=0.1, SVM__kernel=rbf; total time= 2.0min\n",
      "[CV] END ...SVM__C=200000.0, SVM__gamma=0.1, SVM__kernel=rbf; total time= 2.0min\n",
      "[CV] END ...SVM__C=200000.0, SVM__gamma=0.1, SVM__kernel=rbf; total time= 2.0min\n",
      "[CV] END ..SVM__C=200000.0, SVM__gamma=0.01, SVM__kernel=rbf; total time= 1.9min\n",
      "[CV] END ..SVM__C=200000.0, SVM__gamma=0.01, SVM__kernel=rbf; total time= 2.2min\n",
      "[CV] END ..SVM__C=200000.0, SVM__gamma=0.01, SVM__kernel=rbf; total time= 2.1min\n",
      "[CV] END .SVM__C=200000.0, SVM__gamma=0.001, SVM__kernel=rbf; total time= 2.2min\n",
      "[CV] END .SVM__C=200000.0, SVM__gamma=0.001, SVM__kernel=rbf; total time= 2.0min\n",
      "[CV] END .SVM__C=200000.0, SVM__gamma=0.001, SVM__kernel=rbf; total time= 3.0min\n",
      "[CV] END SVM__C=200000.0, SVM__gamma=0.0001, SVM__kernel=rbf; total time= 3.6min\n",
      "[CV] END SVM__C=200000.0, SVM__gamma=0.0001, SVM__kernel=rbf; total time= 3.0min\n",
      "[CV] END SVM__C=200000.0, SVM__gamma=0.0001, SVM__kernel=rbf; total time= 2.8min\n",
      "[CV] END .SVM__C=20000000.0, SVM__gamma=0.1, SVM__kernel=rbf; total time= 2.8min\n",
      "[CV] END .SVM__C=20000000.0, SVM__gamma=0.1, SVM__kernel=rbf; total time= 2.9min\n",
      "[CV] END .SVM__C=20000000.0, SVM__gamma=0.1, SVM__kernel=rbf; total time= 3.1min\n",
      "[CV] END SVM__C=20000000.0, SVM__gamma=0.01, SVM__kernel=rbf; total time= 3.2min\n",
      "[CV] END SVM__C=20000000.0, SVM__gamma=0.01, SVM__kernel=rbf; total time= 3.1min\n",
      "[CV] END SVM__C=20000000.0, SVM__gamma=0.01, SVM__kernel=rbf; total time= 2.9min\n",
      "[CV] END SVM__C=20000000.0, SVM__gamma=0.001, SVM__kernel=rbf; total time= 3.0min\n",
      "[CV] END SVM__C=20000000.0, SVM__gamma=0.001, SVM__kernel=rbf; total time= 3.2min\n",
      "[CV] END SVM__C=20000000.0, SVM__gamma=0.001, SVM__kernel=rbf; total time= 3.1min\n",
      "[CV] END SVM__C=20000000.0, SVM__gamma=0.0001, SVM__kernel=rbf; total time= 3.1min\n",
      "[CV] END SVM__C=20000000.0, SVM__gamma=0.0001, SVM__kernel=rbf; total time= 3.8min\n",
      "[CV] END SVM__C=20000000.0, SVM__gamma=0.0001, SVM__kernel=rbf; total time= 4.3min\n",
      "[CV] END SVM__C=2000000000.0, SVM__gamma=0.1, SVM__kernel=rbf; total time= 4.1min\n",
      "[CV] END SVM__C=2000000000.0, SVM__gamma=0.1, SVM__kernel=rbf; total time= 4.1min\n",
      "[CV] END SVM__C=2000000000.0, SVM__gamma=0.1, SVM__kernel=rbf; total time= 4.1min\n",
      "[CV] END SVM__C=2000000000.0, SVM__gamma=0.01, SVM__kernel=rbf; total time= 4.1min\n",
      "[CV] END SVM__C=2000000000.0, SVM__gamma=0.01, SVM__kernel=rbf; total time= 4.2min\n",
      "[CV] END SVM__C=2000000000.0, SVM__gamma=0.01, SVM__kernel=rbf; total time= 4.4min\n",
      "[CV] END SVM__C=2000000000.0, SVM__gamma=0.001, SVM__kernel=rbf; total time= 4.4min\n",
      "[CV] END SVM__C=2000000000.0, SVM__gamma=0.001, SVM__kernel=rbf; total time= 4.5min\n",
      "[CV] END SVM__C=2000000000.0, SVM__gamma=0.001, SVM__kernel=rbf; total time=10.6min\n",
      "[CV] END SVM__C=2000000000.0, SVM__gamma=0.0001, SVM__kernel=rbf; total time= 2.4min\n",
      "[CV] END SVM__C=2000000000.0, SVM__gamma=0.0001, SVM__kernel=rbf; total time= 2.1min\n",
      "[CV] END SVM__C=2000000000.0, SVM__gamma=0.0001, SVM__kernel=rbf; total time= 1.9min\n",
      "[CV] END SVM__C=200000000000.0, SVM__gamma=0.1, SVM__kernel=rbf; total time= 2.0min\n",
      "[CV] END SVM__C=200000000000.0, SVM__gamma=0.1, SVM__kernel=rbf; total time= 2.0min\n",
      "[CV] END SVM__C=200000000000.0, SVM__gamma=0.1, SVM__kernel=rbf; total time= 2.0min\n",
      "[CV] END SVM__C=200000000000.0, SVM__gamma=0.01, SVM__kernel=rbf; total time= 1.9min\n",
      "[CV] END SVM__C=200000000000.0, SVM__gamma=0.01, SVM__kernel=rbf; total time= 2.0min\n",
      "[CV] END SVM__C=200000000000.0, SVM__gamma=0.01, SVM__kernel=rbf; total time= 1.9min\n",
      "[CV] END SVM__C=200000000000.0, SVM__gamma=0.001, SVM__kernel=rbf; total time= 1.9min\n",
      "[CV] END SVM__C=200000000000.0, SVM__gamma=0.001, SVM__kernel=rbf; total time= 1.9min\n",
      "[CV] END SVM__C=200000000000.0, SVM__gamma=0.001, SVM__kernel=rbf; total time= 2.0min\n",
      "[CV] END SVM__C=200000000000.0, SVM__gamma=0.0001, SVM__kernel=rbf; total time= 2.0min\n",
      "[CV] END SVM__C=200000000000.0, SVM__gamma=0.0001, SVM__kernel=rbf; total time= 2.0min\n",
      "[CV] END SVM__C=200000000000.0, SVM__gamma=0.0001, SVM__kernel=rbf; total time= 2.0min\n",
      "[CV] END SVM__C=20000000000000.0, SVM__gamma=0.1, SVM__kernel=rbf; total time= 2.0min\n",
      "[CV] END SVM__C=20000000000000.0, SVM__gamma=0.1, SVM__kernel=rbf; total time= 2.1min\n",
      "[CV] END SVM__C=20000000000000.0, SVM__gamma=0.1, SVM__kernel=rbf; total time= 2.0min\n",
      "[CV] END SVM__C=20000000000000.0, SVM__gamma=0.01, SVM__kernel=rbf; total time= 2.1min\n",
      "[CV] END SVM__C=20000000000000.0, SVM__gamma=0.01, SVM__kernel=rbf; total time= 2.0min\n",
      "[CV] END SVM__C=20000000000000.0, SVM__gamma=0.01, SVM__kernel=rbf; total time= 2.0min\n",
      "[CV] END SVM__C=20000000000000.0, SVM__gamma=0.001, SVM__kernel=rbf; total time= 2.0min\n",
      "[CV] END SVM__C=20000000000000.0, SVM__gamma=0.001, SVM__kernel=rbf; total time= 2.0min\n",
      "[CV] END SVM__C=20000000000000.0, SVM__gamma=0.001, SVM__kernel=rbf; total time= 2.0min\n",
      "[CV] END SVM__C=20000000000000.0, SVM__gamma=0.0001, SVM__kernel=rbf; total time= 2.0min\n",
      "[CV] END SVM__C=20000000000000.0, SVM__gamma=0.0001, SVM__kernel=rbf; total time= 2.0min\n",
      "[CV] END SVM__C=20000000000000.0, SVM__gamma=0.0001, SVM__kernel=rbf; total time= 2.0min\n",
      "[CV] END SVM__C=2000000000000000.0, SVM__gamma=0.1, SVM__kernel=rbf; total time= 2.1min\n",
      "[CV] END SVM__C=2000000000000000.0, SVM__gamma=0.1, SVM__kernel=rbf; total time= 2.0min\n",
      "[CV] END SVM__C=2000000000000000.0, SVM__gamma=0.1, SVM__kernel=rbf; total time= 2.0min\n",
      "[CV] END SVM__C=2000000000000000.0, SVM__gamma=0.01, SVM__kernel=rbf; total time= 2.1min\n",
      "[CV] END SVM__C=2000000000000000.0, SVM__gamma=0.01, SVM__kernel=rbf; total time= 2.0min\n",
      "[CV] END SVM__C=2000000000000000.0, SVM__gamma=0.01, SVM__kernel=rbf; total time= 2.1min\n",
      "[CV] END SVM__C=2000000000000000.0, SVM__gamma=0.001, SVM__kernel=rbf; total time= 2.0min\n",
      "[CV] END SVM__C=2000000000000000.0, SVM__gamma=0.001, SVM__kernel=rbf; total time= 2.0min\n",
      "[CV] END SVM__C=2000000000000000.0, SVM__gamma=0.001, SVM__kernel=rbf; total time= 2.0min\n",
      "[CV] END SVM__C=2000000000000000.0, SVM__gamma=0.0001, SVM__kernel=rbf; total time= 2.1min\n",
      "[CV] END SVM__C=2000000000000000.0, SVM__gamma=0.0001, SVM__kernel=rbf; total time= 2.2min\n",
      "[CV] END SVM__C=2000000000000000.0, SVM__gamma=0.0001, SVM__kernel=rbf; total time= 2.1min\n",
      "\n",
      "Modelo 2 treinado!\n",
      "\n",
      "Melhor estimador:\n",
      "\n",
      "Pipeline(steps=[('Bow_stopwords_stemming',\n",
      "                 TfidfVectorizer(analyzer=<function stemmed_words at 0x000002C6DE4D6940>,\n",
      "                                 lowercase=False,\n",
      "                                 stop_words=['de', 'a', 'o', 'que', 'e', 'é',\n",
      "                                             'do', 'da', 'em', 'um', 'para',\n",
      "                                             'com', 'não', 'uma', 'os', 'no',\n",
      "                                             'se', 'na', 'por', 'mais', 'as',\n",
      "                                             'dos', 'como', 'mas', 'ao', 'ele',\n",
      "                                             'das', 'à', 'seu', 'sua', ...])),\n",
      "                ('SVM', SVC(C=2000.0, gamma=0.1))])\n",
      "Salvando resultados... OK \n",
      "\n"
     ]
    }
   ],
   "source": [
    "for i in range(0,3):\n",
    "    \n",
    "    print('\\n***************************\\n')\n",
    "    print(f'Treinando modelo {i}...\\n')\n",
    "    \n",
    "    steps = [(transform_name[i], Tfid[i]), ('SVM', SVC())]\n",
    "    pipeline = Pipeline(steps)\n",
    "\n",
    "    grid = GridSearchCV(pipeline, param_grid=param_grid, cv=3, scoring=scoring, refit='f1', verbose=2)\n",
    "    grid.fit(X_train, y_train)\n",
    "\n",
    "    print(f'\\nModelo {i} treinado!\\n')\n",
    "\n",
    "    print('Melhor estimador:\\n')\n",
    "    print(grid.best_estimator_)\n",
    "\n",
    "    print('Salvando resultados... ', end='')\n",
    "\n",
    "    grid_results = pd.DataFrame.from_dict(grid.cv_results_)\n",
    "    grid_results.to_pickle(f'./Resultados/grid_{i}_results.pkl')\n",
    "\n",
    "    print('OK \\n')"
   ]
  },
  {
   "source": [
    "Treinamento utilizando o bag of words truncado"
   ],
   "cell_type": "markdown",
   "metadata": {}
  },
  {
   "cell_type": "code",
   "execution_count": 81,
   "metadata": {},
   "outputs": [
    {
     "output_type": "stream",
     "name": "stdout",
     "text": [
      "\n",
      "***************************\n",
      "\n",
      "Treinando modelo 3...\n",
      "\n",
      "Fitting 3 folds for each of 50 candidates, totalling 150 fits\n",
      "[CV] END ...................SVM__C=0.002, SVM__kernel=linear; total time=  52.0s\n",
      "[CV] END ...................SVM__C=0.002, SVM__kernel=linear; total time=  43.9s\n",
      "[CV] END ...................SVM__C=0.002, SVM__kernel=linear; total time=  44.0s\n",
      "[CV] END .....................SVM__C=0.2, SVM__kernel=linear; total time=  24.8s\n",
      "[CV] END .....................SVM__C=0.2, SVM__kernel=linear; total time=  24.7s\n",
      "[CV] END .....................SVM__C=0.2, SVM__kernel=linear; total time=  24.2s\n",
      "[CV] END ....................SVM__C=20.0, SVM__kernel=linear; total time=  15.8s\n",
      "[CV] END ....................SVM__C=20.0, SVM__kernel=linear; total time=  15.5s\n",
      "[CV] END ....................SVM__C=20.0, SVM__kernel=linear; total time=  15.8s\n",
      "[CV] END ..................SVM__C=2000.0, SVM__kernel=linear; total time=  52.0s\n",
      "[CV] END ..................SVM__C=2000.0, SVM__kernel=linear; total time= 1.2min\n",
      "[CV] END ..................SVM__C=2000.0, SVM__kernel=linear; total time= 1.1min\n",
      "[CV] END ................SVM__C=200000.0, SVM__kernel=linear; total time=27.8min\n",
      "[CV] END ................SVM__C=200000.0, SVM__kernel=linear; total time=32.9min\n",
      "[CV] END ................SVM__C=200000.0, SVM__kernel=linear; total time=11.5min\n"
     ]
    }
   ],
   "source": [
    "for i in range(3,6):\n",
    "    \n",
    "    print('\\n***************************\\n')\n",
    "    print(f'Treinando modelo {i}...\\n')\n",
    "    \n",
    "    steps = [(transform_name[i], Tfid[i]), ('SVM', SVC())]\n",
    "    pipeline = Pipeline(steps)\n",
    "\n",
    "    grid = GridSearchCV(pipeline, param_grid=param_grid, cv=3, scoring=scoring, refit='f1', verbose=2)\n",
    "    grid.fit(X_train, y_train)\n",
    "\n",
    "    print(f'\\nModelo {i} treinado!\\n')\n",
    "\n",
    "    print('Melhor estimador:\\n')\n",
    "    print(grid.best_estimator_)\n",
    "\n",
    "    print('Salvando resultados... ', end='')\n",
    "\n",
    "    grid_results = pd.DataFrame.from_dict(grid.cv_results_)\n",
    "    grid_results.to_pickle(f'./Resultados/grid_{i}_results.pkl')\n",
    "\n",
    "    print('OK \\n')"
   ]
  },
  {
   "source": [
    "## Resultados"
   ],
   "cell_type": "markdown",
   "metadata": {}
  },
  {
   "cell_type": "code",
   "execution_count": 72,
   "metadata": {},
   "outputs": [],
   "source": [
    "def format_params(x):\n",
    "\n",
    "    s_array = x.split('{')[1].split('}')[0].split(',')\n",
    "    p_array = ['C =','gamma =','kernel =']\n",
    "\n",
    "    x = []\n",
    "    for i in range(0,len(s_array)):\n",
    "        x.append(p_array[i] + s_array[i].split(':')[1])\n",
    "    \n",
    "    return ' , '.join(x)"
   ]
  },
  {
   "cell_type": "code",
   "execution_count": 37,
   "metadata": {},
   "outputs": [],
   "source": [
    "grid_0 = pd.read_pickle(os.path.join(result_path,'grid_0_results.pkl'))\n",
    "grid_0.insert(7,'transform',transform_name[0])\n",
    "\n",
    "grid_1 = pd.read_pickle(os.path.join(result_path,'grid_1_results.pkl'))\n",
    "grid_1.insert(7,'transform',transform_name[1])\n",
    "\n",
    "grid_2 = pd.read_pickle(os.path.join(result_path,'grid_2_results.pkl'))\n",
    "grid_2.insert(7,'transform',transform_name[2])\n",
    "\n",
    "grid_3 = pd.read_pickle(os.path.join(result_path,'grid_3_results.pkl'))\n",
    "grid_3.insert(7,'transform',transform_name[3])\n",
    "\n",
    "grid_4 = pd.read_pickle(os.path.join(result_path,'grid_4_results.pkl'))\n",
    "grid_4.insert(7,'transform',transform_name[4])\n",
    "\n",
    "grid_5 = pd.read_pickle(os.path.join(result_path,'grid_5_results.pkl'))\n",
    "grid_5.insert(7,'transform',transform_name[5])\n",
    "\n",
    "results = pd.concat([grid_0,grid_1,grid_2,grid_3,grid_4,grid_5])"
   ]
  },
  {
   "cell_type": "code",
   "execution_count": null,
   "metadata": {},
   "outputs": [],
   "source": []
  },
  {
   "cell_type": "code",
   "execution_count": null,
   "metadata": {},
   "outputs": [],
   "source": []
  }
 ]
}