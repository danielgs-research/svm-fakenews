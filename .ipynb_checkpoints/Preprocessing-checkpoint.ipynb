{
 "cells": [
  {
   "cell_type": "code",
   "execution_count": 1,
   "metadata": {},
   "outputs": [],
   "source": [
    "import sys, os\n",
    "import pandas as pd\n",
    "from tqdm import tqdm\n",
    "import re"
   ]
  },
  {
   "cell_type": "markdown",
   "metadata": {},
   "source": [
    "# Leitura dos Dados"
   ]
  },
  {
   "cell_type": "markdown",
   "metadata": {},
   "source": [
    "Dataset obtido a partir do repositório https://github.com/roneysco/Fake.br-Corpus"
   ]
  },
  {
   "cell_type": "code",
   "execution_count": 2,
   "metadata": {},
   "outputs": [],
   "source": [
    "fake_path = os.path.join(os.getcwd(),r'..\\Fake.br-Corpus-master\\full_texts\\fake')\n",
    "true_path = os.path.join(os.getcwd(),r'..\\Fake.br-Corpus-master\\full_texts\\true')"
   ]
  },
  {
   "cell_type": "markdown",
   "metadata": {},
   "source": [
    "Módulo que constroi o dataframe de amostras rotuladas e salva na pasta Dados para tornar as leituras seguintes mais rápidas"
   ]
  },
  {
   "cell_type": "code",
   "execution_count": 3,
   "metadata": {},
   "outputs": [],
   "source": [
    "# df_corpus = pd.DataFrame(columns=['sample','label'])\n",
    "\n",
    "# for filename in tqdm(os.listdir(fake_path)):\n",
    "#     f = open(os.path.join(fake_path,filename), encoding=\"utf8\")\n",
    "#     sample = f.read()\n",
    "\n",
    "#     df = pd.DataFrame([[sample,1]],columns=['sample','label'])\n",
    "\n",
    "#     df_corpus = df_corpus.append(df, ignore_index=True)\n",
    "\n",
    "# for filename in tqdm(os.listdir(true_path)):\n",
    "#     f = open(os.path.join(true_path,filename), encoding=\"utf8\")\n",
    "#     sample = f.read()\n",
    "\n",
    "#     df = pd.DataFrame([[sample,0]],columns=['sample','label'])\n",
    "\n",
    "#     df_corpus = df_corpus.append(df, ignore_index=True)\n",
    "\n",
    "# df_corpus.to_pickle('./Dados/raw_corpus.pkl')"
   ]
  },
  {
   "cell_type": "markdown",
   "metadata": {},
   "source": [
    "Lê o dataframe de amostras rotuladas"
   ]
  },
  {
   "cell_type": "code",
   "execution_count": 4,
   "metadata": {},
   "outputs": [],
   "source": [
    "df_corpus = pd.read_pickle('./Dados/raw_corpus.pkl')"
   ]
  },
  {
   "cell_type": "markdown",
   "metadata": {},
   "source": [
    "# Pré Processamento"
   ]
  },
  {
   "cell_type": "markdown",
   "metadata": {},
   "source": [
    "Torna todas as letras minúsculas"
   ]
  },
  {
   "cell_type": "code",
   "execution_count": 5,
   "metadata": {},
   "outputs": [],
   "source": [
    "df_corpus['sample'] = df_corpus['sample'].apply(lambda x: x.lower())"
   ]
  },
  {
   "cell_type": "markdown",
   "metadata": {},
   "source": [
    "Substitui todos os dígitos por '0'"
   ]
  },
  {
   "cell_type": "code",
   "execution_count": 6,
   "metadata": {},
   "outputs": [],
   "source": [
    "df_corpus['sample'] = df_corpus['sample'].apply(lambda x: re.sub(r'\\d+', '0', x))"
   ]
  },
  {
   "cell_type": "markdown",
   "metadata": {},
   "source": [
    "Substitui todos as URLs por 'URL'"
   ]
  },
  {
   "cell_type": "code",
   "execution_count": 7,
   "metadata": {},
   "outputs": [],
   "source": [
    "df_corpus['sample'] = df_corpus['sample'].apply(lambda x: re.sub(r'http\\S+', 'URL', x))"
   ]
  },
  {
   "cell_type": "markdown",
   "metadata": {},
   "source": [
    "Substitui todos os e-mails por 'EMAIL'"
   ]
  },
  {
   "cell_type": "code",
   "execution_count": 8,
   "metadata": {},
   "outputs": [],
   "source": [
    "df_corpus['sample'] = df_corpus['sample'].apply(lambda x: re.sub(r'\\S+@\\S+', 'EMAIL', x))"
   ]
  },
  {
   "cell_type": "markdown",
   "metadata": {},
   "source": [
    "# Tokenização"
   ]
  },
  {
   "cell_type": "markdown",
   "metadata": {},
   "source": [
    "Tokeniza o texto a partir dos espaços em branco e das pontuações"
   ]
  },
  {
   "cell_type": "code",
   "execution_count": 10,
   "metadata": {},
   "outputs": [],
   "source": [
    "df_corpus['token'] = df_corpus['sample'].apply(wordpunct_tokenize)"
   ]
  },
  {
   "cell_type": "markdown",
   "metadata": {},
   "source": [
    "Salva dataframe pré-processado na pasta Dados"
   ]
  },
  {
   "cell_type": "code",
   "execution_count": 12,
   "metadata": {},
   "outputs": [],
   "source": [
    "df_corpus.to_pickle('./Dados/preprocessed_corpus.pkl')"
   ]
  }
 ],
 "metadata": {
  "hide_input": false,
  "kernelspec": {
   "display_name": "Python 3",
   "language": "python",
   "name": "python3"
  },
  "language_info": {
   "codemirror_mode": {
    "name": "ipython",
    "version": 3
   },
   "file_extension": ".py",
   "mimetype": "text/x-python",
   "name": "python",
   "nbconvert_exporter": "python",
   "pygments_lexer": "ipython3",
   "version": "3.9.1"
  },
  "toc": {
   "base_numbering": 1,
   "nav_menu": {},
   "number_sections": true,
   "sideBar": true,
   "skip_h1_title": false,
   "title_cell": "Table of Contents",
   "title_sidebar": "Contents",
   "toc_cell": false,
   "toc_position": {},
   "toc_section_display": true,
   "toc_window_display": false
  }
 },
 "nbformat": 4,
 "nbformat_minor": 2
}
