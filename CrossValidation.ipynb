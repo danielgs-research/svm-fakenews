{
 "metadata": {
  "language_info": {
   "codemirror_mode": {
    "name": "ipython",
    "version": 3
   },
   "file_extension": ".py",
   "mimetype": "text/x-python",
   "name": "python",
   "nbconvert_exporter": "python",
   "pygments_lexer": "ipython3",
   "version": "3.9.1"
  },
  "orig_nbformat": 2,
  "kernelspec": {
   "name": "python3",
   "display_name": "Python 3.9.1 64-bit",
   "metadata": {
    "interpreter": {
     "hash": "6e8bab2002e0efeda65600510fca4a5059ce1fa4d0ac313d60c1a55ae22de8fe"
    }
   }
  }
 },
 "nbformat": 4,
 "nbformat_minor": 2,
 "cells": [
  {
   "cell_type": "code",
   "execution_count": 1,
   "metadata": {},
   "outputs": [],
   "source": [
    "import sys, os\n",
    "import pandas as pd\n",
    "import numpy as np\n",
    "\n",
    "from nltk.tokenize import wordpunct_tokenize\n",
    "from sklearn.feature_extraction.text import CountVectorizer\n",
    "from sklearn.feature_extraction.text import TfidfVectorizer\n",
    "from sklearn.model_selection import train_test_split\n",
    "\n",
    "import nltk\n",
    "\n",
    "from sklearn.svm import SVC\n",
    "from sklearn.model_selection import cross_validate\n",
    "\n",
    "from sklearn.pipeline import Pipeline\n",
    "from sklearn.model_selection import GridSearchCV\n",
    "\n",
    "import plotly.express as px\n",
    "import plotly.graph_objects as go\n",
    "\n",
    "from sklearn.metrics import confusion_matrix\n",
    "from sklearn.metrics import plot_confusion_matrix\n",
    "from sklearn.metrics import f1_score\n",
    "from sklearn.metrics import accuracy_score\n",
    "from sklearn.metrics import precision_score\n",
    "from sklearn.metrics import plot_precision_recall_curve\n",
    "from sklearn.metrics import average_precision_score"
   ]
  },
  {
   "cell_type": "code",
   "execution_count": 2,
   "metadata": {},
   "outputs": [],
   "source": [
    "pd.set_option('display.max_columns',210)\n",
    "pd.set_option('display.max_rows',100)"
   ]
  },
  {
   "cell_type": "code",
   "execution_count": 3,
   "metadata": {},
   "outputs": [],
   "source": [
    "result_path = './Resultados/'"
   ]
  },
  {
   "cell_type": "code",
   "execution_count": 6,
   "metadata": {},
   "outputs": [],
   "source": [
    "transform_name = ['Bow','Bow_stopwords','Bow_stopwords_stemming','trunc_Bow','trunc_Bow_stopwords','trunc_Bow_stopwords_stemming']"
   ]
  },
  {
   "cell_type": "code",
   "execution_count": 4,
   "metadata": {},
   "outputs": [],
   "source": [
    "def format_params(x):\n",
    "    \n",
    "    p_array = ['SVM__kernel','SVM__C','SVM__gamma','SVM__coef0','SVM__degree']\n",
    "\n",
    "    s = []\n",
    "    for i in range(0,len(x)):\n",
    "        s.append(p_array[i][5:] + '=' + str(x[p_array[i]]))\n",
    "    \n",
    "    return ','.join(s)"
   ]
  },
  {
   "cell_type": "code",
   "execution_count": 77,
   "metadata": {},
   "outputs": [],
   "source": [
    "grid_0 = pd.read_pickle(os.path.join(result_path,'grid_0_results.pkl'))\n",
    "grid_0.insert(7,'transform',transform_name[0])\n",
    "\n",
    "grid_1 = pd.read_pickle(os.path.join(result_path,'grid_1_results.pkl'))\n",
    "grid_1.insert(7,'transform',transform_name[1])\n",
    "\n",
    "grid_2 = pd.read_pickle(os.path.join(result_path,'grid_2_results.pkl'))\n",
    "grid_2.insert(7,'transform',transform_name[2])\n",
    "\n",
    "grid_3 = pd.read_pickle(os.path.join(result_path,'grid_3_results.pkl'))\n",
    "grid_3.insert(7,'transform',transform_name[3])\n",
    "\n",
    "grid_4 = pd.read_pickle(os.path.join(result_path,'grid_4_results.pkl'))\n",
    "grid_4.insert(7,'transform',transform_name[4])\n",
    "\n",
    "grid_5 = pd.read_pickle(os.path.join(result_path,'grid_5_results.pkl'))\n",
    "grid_5.insert(7,'transform',transform_name[5])\n",
    "\n",
    "grid_6 = pd.read_pickle(os.path.join(result_path,'grid_6_results.pkl'))\n",
    "grid_6.insert(7,'transform',transform_name[0])\n",
    "\n",
    "grid_7 = pd.read_pickle(os.path.join(result_path,'linear_rbf_results.pkl'))\n",
    "grid_7.rename(columns={'param_C':'param_SVM__C','param_kernel':'param_SVM__kernel','param_gamma':'param_SVM__gamma'},inplace=True)\n",
    "grid_7.insert(7,'transform','NonLinguisticFeature')\n",
    "\n",
    "grid_8 = pd.read_pickle(os.path.join(result_path,'poly_results.pkl'))\n",
    "grid_8.rename(columns={'param_C':'param_SVM__C','param_kernel':'param_SVM__kernel','param_gamma':'param_SVM__gamma',\n",
    "                       'param_coef0':'param_SVM__coef0','param_degree':'param_SVM__degree'},inplace=True)\n",
    "grid_8.insert(7,'transform','NonLinguisticFeature')\n",
    "\n",
    "results = pd.concat([grid_0,grid_1,grid_2,grid_3,grid_4,grid_5,grid_6,grid_7,grid_8])"
   ]
  },
  {
   "cell_type": "code",
   "execution_count": 78,
   "metadata": {},
   "outputs": [
    {
     "output_type": "execute_result",
     "data": {
      "text/plain": [
       "1758"
      ]
     },
     "metadata": {},
     "execution_count": 78
    }
   ],
   "source": [
    "len(results)"
   ]
  },
  {
   "source": [
    "Resultados filtrados pela feature e pelo kernel utilizado"
   ],
   "cell_type": "markdown",
   "metadata": {}
  },
  {
   "cell_type": "code",
   "execution_count": 79,
   "metadata": {},
   "outputs": [
    {
     "output_type": "execute_result",
     "data": {
      "text/plain": [
       "                        transform param_SVM__kernel param_SVM__C  \\\n",
       "18   trunc_Bow_stopwords_stemming               rbf          200   \n",
       "74   trunc_Bow_stopwords_stemming              poly            2   \n",
       "2    trunc_Bow_stopwords_stemming            linear           20   \n",
       "14            trunc_Bow_stopwords               rbf           20   \n",
       "66            trunc_Bow_stopwords              poly            2   \n",
       "0             trunc_Bow_stopwords            linear          0.2   \n",
       "14                      trunc_Bow               rbf           20   \n",
       "74                      trunc_Bow              poly            2   \n",
       "1                       trunc_Bow            linear            2   \n",
       "102          NonLinguisticFeature              poly        20000   \n",
       "3            NonLinguisticFeature            linear          200   \n",
       "25           NonLinguisticFeature               rbf         2000   \n",
       "165        Bow_stopwords_stemming              poly          200   \n",
       "19         Bow_stopwords_stemming               rbf          200   \n",
       "2          Bow_stopwords_stemming            linear           20   \n",
       "48                  Bow_stopwords              poly          0.2   \n",
       "1                   Bow_stopwords            linear            2   \n",
       "24                  Bow_stopwords               rbf         2000   \n",
       "50                            Bow              poly          0.2   \n",
       "15                            Bow               rbf           20   \n",
       "1                             Bow            linear            2   \n",
       "\n",
       "    param_SVM__gamma param_SVM__coef0 param_SVM__degree  mean_test_f1  \\\n",
       "18                 1              NaN               NaN      0.950016   \n",
       "74                 1                0                 4      0.947926   \n",
       "2                NaN              NaN               NaN      0.940131   \n",
       "14                 1              NaN               NaN      0.948030   \n",
       "66                 1                0                 2      0.945843   \n",
       "0                NaN              NaN               NaN      0.942426   \n",
       "14                 1              NaN               NaN      0.951736   \n",
       "74                 1                0                 4      0.950855   \n",
       "1                NaN              NaN               NaN      0.946465   \n",
       "102             0.01              100                 2      0.936585   \n",
       "3                NaN              NaN               NaN      0.935217   \n",
       "25             0.001              NaN               NaN      0.934381   \n",
       "165            0.001              100                 2      0.957696   \n",
       "19               0.1              NaN               NaN      0.956974   \n",
       "2                NaN              NaN               NaN      0.956926   \n",
       "48              0.01               10                 3      0.964879   \n",
       "1                NaN              NaN               NaN      0.963292   \n",
       "24              0.01              NaN               NaN      0.962409   \n",
       "50                 1               10                 4      0.962386   \n",
       "15               0.1              NaN               NaN      0.962025   \n",
       "1                NaN              NaN               NaN      0.961652   \n",
       "\n",
       "     mean_test_precision  mean_test_recall  mean_test_accuracy  \n",
       "18              0.956272          0.943925            0.950174  \n",
       "74              0.947923          0.948079            0.947743  \n",
       "2               0.948263          0.932156            0.940451  \n",
       "14              0.949127          0.947040            0.947917  \n",
       "66              0.942709          0.949117            0.945486  \n",
       "0               0.944123          0.940810            0.942361  \n",
       "14              0.958262          0.945310            0.951910  \n",
       "74              0.950916          0.950848            0.950694  \n",
       "1               0.953674          0.939425            0.946701  \n",
       "102             0.933071          0.940161            0.936111  \n",
       "3               0.928551          0.942036            0.934722  \n",
       "25              0.931994          0.936830            0.934201  \n",
       "165             0.959744          0.955694            0.957639  \n",
       "19              0.959709          0.954309            0.956944  \n",
       "2               0.960657          0.953271            0.956944  \n",
       "48              0.959944          0.969886            0.964583  \n",
       "1               0.964025          0.962617            0.963194  \n",
       "24              0.963629          0.961232            0.962326  \n",
       "50              0.963891          0.960886            0.962326  \n",
       "15              0.963863          0.960194            0.961979  \n",
       "1               0.964166          0.959155            0.961632  "
      ],
      "text/html": "<div>\n<style scoped>\n    .dataframe tbody tr th:only-of-type {\n        vertical-align: middle;\n    }\n\n    .dataframe tbody tr th {\n        vertical-align: top;\n    }\n\n    .dataframe thead th {\n        text-align: right;\n    }\n</style>\n<table border=\"1\" class=\"dataframe\">\n  <thead>\n    <tr style=\"text-align: right;\">\n      <th></th>\n      <th>transform</th>\n      <th>param_SVM__kernel</th>\n      <th>param_SVM__C</th>\n      <th>param_SVM__gamma</th>\n      <th>param_SVM__coef0</th>\n      <th>param_SVM__degree</th>\n      <th>mean_test_f1</th>\n      <th>mean_test_precision</th>\n      <th>mean_test_recall</th>\n      <th>mean_test_accuracy</th>\n    </tr>\n  </thead>\n  <tbody>\n    <tr>\n      <th>18</th>\n      <td>trunc_Bow_stopwords_stemming</td>\n      <td>rbf</td>\n      <td>200</td>\n      <td>1</td>\n      <td>NaN</td>\n      <td>NaN</td>\n      <td>0.950016</td>\n      <td>0.956272</td>\n      <td>0.943925</td>\n      <td>0.950174</td>\n    </tr>\n    <tr>\n      <th>74</th>\n      <td>trunc_Bow_stopwords_stemming</td>\n      <td>poly</td>\n      <td>2</td>\n      <td>1</td>\n      <td>0</td>\n      <td>4</td>\n      <td>0.947926</td>\n      <td>0.947923</td>\n      <td>0.948079</td>\n      <td>0.947743</td>\n    </tr>\n    <tr>\n      <th>2</th>\n      <td>trunc_Bow_stopwords_stemming</td>\n      <td>linear</td>\n      <td>20</td>\n      <td>NaN</td>\n      <td>NaN</td>\n      <td>NaN</td>\n      <td>0.940131</td>\n      <td>0.948263</td>\n      <td>0.932156</td>\n      <td>0.940451</td>\n    </tr>\n    <tr>\n      <th>14</th>\n      <td>trunc_Bow_stopwords</td>\n      <td>rbf</td>\n      <td>20</td>\n      <td>1</td>\n      <td>NaN</td>\n      <td>NaN</td>\n      <td>0.948030</td>\n      <td>0.949127</td>\n      <td>0.947040</td>\n      <td>0.947917</td>\n    </tr>\n    <tr>\n      <th>66</th>\n      <td>trunc_Bow_stopwords</td>\n      <td>poly</td>\n      <td>2</td>\n      <td>1</td>\n      <td>0</td>\n      <td>2</td>\n      <td>0.945843</td>\n      <td>0.942709</td>\n      <td>0.949117</td>\n      <td>0.945486</td>\n    </tr>\n    <tr>\n      <th>0</th>\n      <td>trunc_Bow_stopwords</td>\n      <td>linear</td>\n      <td>0.2</td>\n      <td>NaN</td>\n      <td>NaN</td>\n      <td>NaN</td>\n      <td>0.942426</td>\n      <td>0.944123</td>\n      <td>0.940810</td>\n      <td>0.942361</td>\n    </tr>\n    <tr>\n      <th>14</th>\n      <td>trunc_Bow</td>\n      <td>rbf</td>\n      <td>20</td>\n      <td>1</td>\n      <td>NaN</td>\n      <td>NaN</td>\n      <td>0.951736</td>\n      <td>0.958262</td>\n      <td>0.945310</td>\n      <td>0.951910</td>\n    </tr>\n    <tr>\n      <th>74</th>\n      <td>trunc_Bow</td>\n      <td>poly</td>\n      <td>2</td>\n      <td>1</td>\n      <td>0</td>\n      <td>4</td>\n      <td>0.950855</td>\n      <td>0.950916</td>\n      <td>0.950848</td>\n      <td>0.950694</td>\n    </tr>\n    <tr>\n      <th>1</th>\n      <td>trunc_Bow</td>\n      <td>linear</td>\n      <td>2</td>\n      <td>NaN</td>\n      <td>NaN</td>\n      <td>NaN</td>\n      <td>0.946465</td>\n      <td>0.953674</td>\n      <td>0.939425</td>\n      <td>0.946701</td>\n    </tr>\n    <tr>\n      <th>102</th>\n      <td>NonLinguisticFeature</td>\n      <td>poly</td>\n      <td>20000</td>\n      <td>0.01</td>\n      <td>100</td>\n      <td>2</td>\n      <td>0.936585</td>\n      <td>0.933071</td>\n      <td>0.940161</td>\n      <td>0.936111</td>\n    </tr>\n    <tr>\n      <th>3</th>\n      <td>NonLinguisticFeature</td>\n      <td>linear</td>\n      <td>200</td>\n      <td>NaN</td>\n      <td>NaN</td>\n      <td>NaN</td>\n      <td>0.935217</td>\n      <td>0.928551</td>\n      <td>0.942036</td>\n      <td>0.934722</td>\n    </tr>\n    <tr>\n      <th>25</th>\n      <td>NonLinguisticFeature</td>\n      <td>rbf</td>\n      <td>2000</td>\n      <td>0.001</td>\n      <td>NaN</td>\n      <td>NaN</td>\n      <td>0.934381</td>\n      <td>0.931994</td>\n      <td>0.936830</td>\n      <td>0.934201</td>\n    </tr>\n    <tr>\n      <th>165</th>\n      <td>Bow_stopwords_stemming</td>\n      <td>poly</td>\n      <td>200</td>\n      <td>0.001</td>\n      <td>100</td>\n      <td>2</td>\n      <td>0.957696</td>\n      <td>0.959744</td>\n      <td>0.955694</td>\n      <td>0.957639</td>\n    </tr>\n    <tr>\n      <th>19</th>\n      <td>Bow_stopwords_stemming</td>\n      <td>rbf</td>\n      <td>200</td>\n      <td>0.1</td>\n      <td>NaN</td>\n      <td>NaN</td>\n      <td>0.956974</td>\n      <td>0.959709</td>\n      <td>0.954309</td>\n      <td>0.956944</td>\n    </tr>\n    <tr>\n      <th>2</th>\n      <td>Bow_stopwords_stemming</td>\n      <td>linear</td>\n      <td>20</td>\n      <td>NaN</td>\n      <td>NaN</td>\n      <td>NaN</td>\n      <td>0.956926</td>\n      <td>0.960657</td>\n      <td>0.953271</td>\n      <td>0.956944</td>\n    </tr>\n    <tr>\n      <th>48</th>\n      <td>Bow_stopwords</td>\n      <td>poly</td>\n      <td>0.2</td>\n      <td>0.01</td>\n      <td>10</td>\n      <td>3</td>\n      <td>0.964879</td>\n      <td>0.959944</td>\n      <td>0.969886</td>\n      <td>0.964583</td>\n    </tr>\n    <tr>\n      <th>1</th>\n      <td>Bow_stopwords</td>\n      <td>linear</td>\n      <td>2</td>\n      <td>NaN</td>\n      <td>NaN</td>\n      <td>NaN</td>\n      <td>0.963292</td>\n      <td>0.964025</td>\n      <td>0.962617</td>\n      <td>0.963194</td>\n    </tr>\n    <tr>\n      <th>24</th>\n      <td>Bow_stopwords</td>\n      <td>rbf</td>\n      <td>2000</td>\n      <td>0.01</td>\n      <td>NaN</td>\n      <td>NaN</td>\n      <td>0.962409</td>\n      <td>0.963629</td>\n      <td>0.961232</td>\n      <td>0.962326</td>\n    </tr>\n    <tr>\n      <th>50</th>\n      <td>Bow</td>\n      <td>poly</td>\n      <td>0.2</td>\n      <td>1</td>\n      <td>10</td>\n      <td>4</td>\n      <td>0.962386</td>\n      <td>0.963891</td>\n      <td>0.960886</td>\n      <td>0.962326</td>\n    </tr>\n    <tr>\n      <th>15</th>\n      <td>Bow</td>\n      <td>rbf</td>\n      <td>20</td>\n      <td>0.1</td>\n      <td>NaN</td>\n      <td>NaN</td>\n      <td>0.962025</td>\n      <td>0.963863</td>\n      <td>0.960194</td>\n      <td>0.961979</td>\n    </tr>\n    <tr>\n      <th>1</th>\n      <td>Bow</td>\n      <td>linear</td>\n      <td>2</td>\n      <td>NaN</td>\n      <td>NaN</td>\n      <td>NaN</td>\n      <td>0.961652</td>\n      <td>0.964166</td>\n      <td>0.959155</td>\n      <td>0.961632</td>\n    </tr>\n  </tbody>\n</table>\n</div>"
     },
     "metadata": {},
     "execution_count": 79
    }
   ],
   "source": [
    "# Resultados filtrados pela feature e pelo kernel utilizado\n",
    "idx = results.groupby(['transform','param_SVM__kernel'])['rank_test_f1'].transform(min) == results['rank_test_f1']\n",
    "best_results = results[idx][['transform','param_SVM__kernel', 'param_SVM__C','param_SVM__gamma','param_SVM__coef0','param_SVM__degree','mean_test_f1','mean_test_precision','mean_test_recall','mean_test_accuracy']].sort_values('mean_test_f1',ascending=False)\n",
    "\n",
    "# Empate: filtro por menor parâmetro C\n",
    "idx = best_results.groupby(['transform','param_SVM__kernel'])['param_SVM__C'].transform(min) == best_results['param_SVM__C']\n",
    "best_results = best_results[idx].sort_values(['transform','mean_test_f1'],ascending=False)\n",
    "\n",
    "# Empate: filtro por menor grau polinomial\n",
    "best_results.drop(index=8,inplace=True)\n",
    "\n",
    "# Print\n",
    "best_results"
   ]
  },
  {
   "source": [],
   "cell_type": "markdown",
   "metadata": {}
  },
  {
   "cell_type": "code",
   "execution_count": 71,
   "metadata": {},
   "outputs": [
    {
     "output_type": "stream",
     "name": "stdout",
     "text": [
      "melhor modelo:\n"
     ]
    },
    {
     "output_type": "execute_result",
     "data": {
      "text/plain": [
       "        transform param_SVM__kernel param_SVM__C param_SVM__gamma  \\\n",
       "48  Bow_stopwords              poly          0.2             0.01   \n",
       "\n",
       "   param_SVM__coef0 param_SVM__degree  mean_test_f1  mean_test_precision  \\\n",
       "48               10                 3      0.964879             0.959944   \n",
       "\n",
       "    mean_test_recall  mean_test_accuracy  \n",
       "48          0.969886            0.964583  "
      ],
      "text/html": "<div>\n<style scoped>\n    .dataframe tbody tr th:only-of-type {\n        vertical-align: middle;\n    }\n\n    .dataframe tbody tr th {\n        vertical-align: top;\n    }\n\n    .dataframe thead th {\n        text-align: right;\n    }\n</style>\n<table border=\"1\" class=\"dataframe\">\n  <thead>\n    <tr style=\"text-align: right;\">\n      <th></th>\n      <th>transform</th>\n      <th>param_SVM__kernel</th>\n      <th>param_SVM__C</th>\n      <th>param_SVM__gamma</th>\n      <th>param_SVM__coef0</th>\n      <th>param_SVM__degree</th>\n      <th>mean_test_f1</th>\n      <th>mean_test_precision</th>\n      <th>mean_test_recall</th>\n      <th>mean_test_accuracy</th>\n    </tr>\n  </thead>\n  <tbody>\n    <tr>\n      <th>48</th>\n      <td>Bow_stopwords</td>\n      <td>poly</td>\n      <td>0.2</td>\n      <td>0.01</td>\n      <td>10</td>\n      <td>3</td>\n      <td>0.964879</td>\n      <td>0.959944</td>\n      <td>0.969886</td>\n      <td>0.964583</td>\n    </tr>\n  </tbody>\n</table>\n</div>"
     },
     "metadata": {},
     "execution_count": 71
    }
   ],
   "source": [
    "print('melhor modelo:')\n",
    "best_results[best_results['mean_test_f1']==best_results['mean_test_f1'].max()]"
   ]
  }
 ]
}