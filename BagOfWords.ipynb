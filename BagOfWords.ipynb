{
 "metadata": {
  "language_info": {
   "codemirror_mode": {
    "name": "ipython",
    "version": 3
   },
   "file_extension": ".py",
   "mimetype": "text/x-python",
   "name": "python",
   "nbconvert_exporter": "python",
   "pygments_lexer": "ipython3",
   "version": "3.9.0-final"
  },
  "orig_nbformat": 2,
  "kernelspec": {
   "name": "python3",
   "display_name": "Python 3",
   "language": "python"
  }
 },
 "nbformat": 4,
 "nbformat_minor": 2,
 "cells": [
  {
   "cell_type": "code",
   "execution_count": 1,
   "metadata": {},
   "outputs": [],
   "source": [
    "import sys, os\n",
    "\n",
    "import numpy as np\n",
    "import pandas as pd\n",
    "\n",
    "from tqdm import tqdm"
   ]
  },
  {
   "cell_type": "code",
   "execution_count": 2,
   "metadata": {},
   "outputs": [],
   "source": [
    "fake_path = os.path.join(os.getcwd(),r'..\\Fake.br-Corpus-master\\full_texts\\fake')\n",
    "true_path = os.path.join(os.getcwd(),r'..\\Fake.br-Corpus-master\\full_texts\\true')"
   ]
  },
  {
   "cell_type": "code",
   "execution_count": 22,
   "metadata": {},
   "outputs": [
    {
     "output_type": "stream",
     "name": "stderr",
     "text": [
      "100%|██████████| 3600/3600 [02:18<00:00, 25.92it/s]\n",
      "100%|██████████| 3600/3600 [01:28<00:00, 40.88it/s]\n"
     ]
    }
   ],
   "source": [
    "df_corpus = pd.DataFrame(columns=['sample','label'])\n",
    "\n",
    "for filename in tqdm(os.listdir(fake_path)):\n",
    "    f = open(os.path.join(fake_path,filename), encoding=\"utf8\")\n",
    "    sample = f.read()\n",
    "\n",
    "    df = pd.DataFrame([[sample,1]],columns=['sample','label'])\n",
    "\n",
    "    df_corpus = df_corpus.append(df, ignore_index=True)\n",
    "\n",
    "for filename in tqdm(os.listdir(true_path)):\n",
    "    f = open(os.path.join(true_path,filename), encoding=\"utf8\")\n",
    "    sample = f.read()\n",
    "\n",
    "    df = pd.DataFrame([[sample,0]],columns=['sample','label'])\n",
    "\n",
    "    df_corpus = df_corpus.append(df, ignore_index=True)\n",
    "\n",
    "df_corpus.to_pickle('./Dados/raw_corpus.pkl')\n"
   ]
  }
 ]
}