{
 "metadata": {
  "language_info": {
   "codemirror_mode": {
    "name": "ipython",
    "version": 3
   },
   "file_extension": ".py",
   "mimetype": "text/x-python",
   "name": "python",
   "nbconvert_exporter": "python",
   "pygments_lexer": "ipython3",
   "version": "3.9.1-final"
  },
  "orig_nbformat": 2,
  "kernelspec": {
   "name": "python3",
   "display_name": "Python 3",
   "language": "python"
  }
 },
 "nbformat": 4,
 "nbformat_minor": 2,
 "cells": [
  {
   "cell_type": "code",
   "execution_count": 20,
   "metadata": {},
   "outputs": [],
   "source": [
    "import sys, os\n",
    "import pandas as pd\n",
    "import numpy as np\n",
    "\n",
    "from nltk.tokenize import wordpunct_tokenize\n",
    "from sklearn.feature_extraction.text import CountVectorizer\n",
    "from sklearn.feature_extraction.text import TfidfVectorizer\n",
    "from sklearn.model_selection import train_test_split\n",
    "\n",
    "import nltk\n",
    "\n",
    "from sklearn.svm import SVC\n",
    "from sklearn.model_selection import cross_validate\n",
    "\n",
    "from sklearn.pipeline import Pipeline\n",
    "from sklearn.model_selection import GridSearchCV"
   ]
  },
  {
   "cell_type": "code",
   "execution_count": 2,
   "metadata": {},
   "outputs": [],
   "source": [
    "df_corpus = pd.read_pickle('./Dados/preprocessed_corpus.pkl')\n",
    "# df_corpus = pd.read_pickle('./Dados/raw_corpus.pkl')"
   ]
  },
  {
   "cell_type": "code",
   "execution_count": 3,
   "metadata": {},
   "outputs": [
    {
     "output_type": "execute_result",
     "data": {
      "text/plain": [
       "                                                 sample label  \\\n",
       "0     kátia abreu diz que vai colocar sua expulsão e...     1   \n",
       "1     dr. ray peita bolsonaro, chama-o de conservad...     1   \n",
       "2     reinaldo azevedo desmascarado pela polícia fed...     1   \n",
       "3     relatório assustador do bndes mostra dinheiro ...     1   \n",
       "4     radialista americano fala sobre o pt: \"eles ve...     1   \n",
       "...                                                 ...   ...   \n",
       "7195  para jornal britânico, ação contra lula na lav...     0   \n",
       "7196  temer diz que acionou pf e cade para investiga...     0   \n",
       "7197  os obstáculos políticos de temer em 0. especia...     0   \n",
       "7198  sexta-feira, 0 de setembro de 0. boa noite! aq...     0   \n",
       "7199  'não me envolvo em política', diz brasileiro q...     0   \n",
       "\n",
       "                                                  token  \n",
       "0     [kátia, abreu, diz, que, vai, colocar, sua, ex...  \n",
       "1     [dr, ., ray, peita, bolsonaro, ,, chama, -, o,...  \n",
       "2     [reinaldo, azevedo, desmascarado, pela, políci...  \n",
       "3     [relatório, assustador, do, bndes, mostra, din...  \n",
       "4     [radialista, americano, fala, sobre, o, pt, :,...  \n",
       "...                                                 ...  \n",
       "7195  [para, jornal, britânico, ,, ação, contra, lul...  \n",
       "7196  [temer, diz, que, acionou, pf, e, cade, para, ...  \n",
       "7197  [os, obstáculos, políticos, de, temer, em, 0, ...  \n",
       "7198  [sexta, -, feira, ,, 0, de, setembro, de, 0, ....  \n",
       "7199  [', não, me, envolvo, em, política, ',, diz, b...  \n",
       "\n",
       "[7200 rows x 3 columns]"
      ],
      "text/html": "<div>\n<style scoped>\n    .dataframe tbody tr th:only-of-type {\n        vertical-align: middle;\n    }\n\n    .dataframe tbody tr th {\n        vertical-align: top;\n    }\n\n    .dataframe thead th {\n        text-align: right;\n    }\n</style>\n<table border=\"1\" class=\"dataframe\">\n  <thead>\n    <tr style=\"text-align: right;\">\n      <th></th>\n      <th>sample</th>\n      <th>label</th>\n      <th>token</th>\n    </tr>\n  </thead>\n  <tbody>\n    <tr>\n      <th>0</th>\n      <td>kátia abreu diz que vai colocar sua expulsão e...</td>\n      <td>1</td>\n      <td>[kátia, abreu, diz, que, vai, colocar, sua, ex...</td>\n    </tr>\n    <tr>\n      <th>1</th>\n      <td>dr. ray peita bolsonaro, chama-o de conservad...</td>\n      <td>1</td>\n      <td>[dr, ., ray, peita, bolsonaro, ,, chama, -, o,...</td>\n    </tr>\n    <tr>\n      <th>2</th>\n      <td>reinaldo azevedo desmascarado pela polícia fed...</td>\n      <td>1</td>\n      <td>[reinaldo, azevedo, desmascarado, pela, políci...</td>\n    </tr>\n    <tr>\n      <th>3</th>\n      <td>relatório assustador do bndes mostra dinheiro ...</td>\n      <td>1</td>\n      <td>[relatório, assustador, do, bndes, mostra, din...</td>\n    </tr>\n    <tr>\n      <th>4</th>\n      <td>radialista americano fala sobre o pt: \"eles ve...</td>\n      <td>1</td>\n      <td>[radialista, americano, fala, sobre, o, pt, :,...</td>\n    </tr>\n    <tr>\n      <th>...</th>\n      <td>...</td>\n      <td>...</td>\n      <td>...</td>\n    </tr>\n    <tr>\n      <th>7195</th>\n      <td>para jornal britânico, ação contra lula na lav...</td>\n      <td>0</td>\n      <td>[para, jornal, britânico, ,, ação, contra, lul...</td>\n    </tr>\n    <tr>\n      <th>7196</th>\n      <td>temer diz que acionou pf e cade para investiga...</td>\n      <td>0</td>\n      <td>[temer, diz, que, acionou, pf, e, cade, para, ...</td>\n    </tr>\n    <tr>\n      <th>7197</th>\n      <td>os obstáculos políticos de temer em 0. especia...</td>\n      <td>0</td>\n      <td>[os, obstáculos, políticos, de, temer, em, 0, ...</td>\n    </tr>\n    <tr>\n      <th>7198</th>\n      <td>sexta-feira, 0 de setembro de 0. boa noite! aq...</td>\n      <td>0</td>\n      <td>[sexta, -, feira, ,, 0, de, setembro, de, 0, ....</td>\n    </tr>\n    <tr>\n      <th>7199</th>\n      <td>'não me envolvo em política', diz brasileiro q...</td>\n      <td>0</td>\n      <td>[', não, me, envolvo, em, política, ',, diz, b...</td>\n    </tr>\n  </tbody>\n</table>\n<p>7200 rows × 3 columns</p>\n</div>"
     },
     "metadata": {},
     "execution_count": 3
    }
   ],
   "source": [
    "df_corpus"
   ]
  },
  {
   "cell_type": "code",
   "execution_count": 4,
   "metadata": {},
   "outputs": [],
   "source": [
    "corpus = list(df_corpus['sample'])\n",
    "label = list(df_corpus['label'])"
   ]
  },
  {
   "source": [
    "# Separação do conjunto de Dados"
   ],
   "cell_type": "markdown",
   "metadata": {}
  },
  {
   "cell_type": "code",
   "execution_count": 10,
   "metadata": {},
   "outputs": [
    {
     "output_type": "execute_result",
     "data": {
      "text/plain": [
       "7200"
      ]
     },
     "metadata": {},
     "execution_count": 10
    }
   ],
   "source": [
    "len(corpus)"
   ]
  },
  {
   "cell_type": "code",
   "execution_count": 11,
   "metadata": {},
   "outputs": [],
   "source": [
    "X_train, X_test, y_train, y_test = train_test_split(corpus, label, test_size=0.2, random_state=1)"
   ]
  },
  {
   "cell_type": "code",
   "execution_count": 12,
   "metadata": {},
   "outputs": [],
   "source": [
    "X_train, X_val, y_train, y_val = train_test_split(X_train, y_train, test_size=0.25, random_state=1) # 0.25 x 0.8 = 0.2"
   ]
  },
  {
   "cell_type": "code",
   "execution_count": 13,
   "metadata": {},
   "outputs": [
    {
     "output_type": "stream",
     "name": "stdout",
     "text": [
      "treino: 4320 (60.0%)\nvalidacao: 1440 (20.0%)\nteste: 1440 (20.0%)\n"
     ]
    }
   ],
   "source": [
    "print(f'treino: {len(X_train)} ({len(X_train)*100/len(corpus)}%)')\n",
    "print(f'validacao: {len(X_val)} ({len(X_val)*100/len(corpus)}%)')\n",
    "print(f'teste: {len(X_test)} ({len(X_test)*100/len(corpus)}%)')"
   ]
  },
  {
   "source": [
    "# Bag of Words"
   ],
   "cell_type": "markdown",
   "metadata": {}
  },
  {
   "cell_type": "code",
   "execution_count": 23,
   "metadata": {},
   "outputs": [],
   "source": [
    "Tfid_1 = TfidfVectorizer(lowercase = False,\n",
    "                         tokenizer = None,\n",
    "                         preprocessor = None,\n",
    "                         stop_words = None,\n",
    "                         analyzer = 'word',\n",
    "                         max_features = 1000)\n",
    "\n",
    "svm_1 = SVC(verbose=True)"
   ]
  },
  {
   "cell_type": "code",
   "execution_count": 24,
   "metadata": {},
   "outputs": [],
   "source": [
    "steps = [('BoW', Tfid_1), ('SVM', SVC())]\n",
    "pipeline_1 = Pipeline(steps) # define the pipeline object."
   ]
  },
  {
   "cell_type": "code",
   "execution_count": 25,
   "metadata": {},
   "outputs": [],
   "source": [
    "C_values = []\n",
    "i=-5\n",
    "while i<=15:\n",
    "    C_values.append(2**i)\n",
    "    i=i+2\n",
    "\n",
    "parameteres = {'SVM__C':C_values, 'SVM__gamma':[0.1,0.01]}"
   ]
  },
  {
   "cell_type": "code",
   "execution_count": 47,
   "metadata": {},
   "outputs": [
    {
     "output_type": "execute_result",
     "data": {
      "text/plain": [
       "[0.03125, 0.125, 0.5, 2, 8, 32, 128, 512, 2048, 8192, 32768]"
      ]
     },
     "metadata": {},
     "execution_count": 47
    }
   ],
   "source": [
    "C_values"
   ]
  },
  {
   "source": [
    "usamos o grid search para escolher o melhor parametro para o SVM utilizando o BoW puro.\n",
    "cv = 5 indica que uma tecnica de k-fold com k=5. Ou seja, a cada rodada, 2/3 do dataset de treino (60% do dataset original) é usado para treino e 1/3 é usado para validação. "
   ],
   "cell_type": "markdown",
   "metadata": {}
  },
  {
   "cell_type": "code",
   "execution_count": 26,
   "metadata": {},
   "outputs": [],
   "source": [
    "grid_1 = GridSearchCV(pipeline_1, param_grid=parameteres, cv=5)"
   ]
  },
  {
   "cell_type": "code",
   "execution_count": 27,
   "metadata": {},
   "outputs": [
    {
     "output_type": "execute_result",
     "data": {
      "text/plain": [
       "GridSearchCV(cv=5,\n",
       "             estimator=Pipeline(steps=[('BoW',\n",
       "                                        TfidfVectorizer(lowercase=False,\n",
       "                                                        max_features=1000)),\n",
       "                                       ('SVM', SVC())]),\n",
       "             param_grid={'SVM__C': [0.03125, 0.125, 0.5, 2, 8, 32, 128, 512,\n",
       "                                    2048, 8192, 32768],\n",
       "                         'SVM__gamma': [0.1, 0.01]})"
      ]
     },
     "metadata": {},
     "execution_count": 27
    }
   ],
   "source": [
    "grid_1.fit(X_train, y_train)"
   ]
  },
  {
   "source": [
    "O melhor estimador para BoW foi a SVM com os parametros abaixo"
   ],
   "cell_type": "markdown",
   "metadata": {}
  },
  {
   "cell_type": "code",
   "execution_count": 37,
   "metadata": {},
   "outputs": [
    {
     "output_type": "execute_result",
     "data": {
      "text/plain": [
       "Pipeline(steps=[('BoW', TfidfVectorizer(lowercase=False, max_features=1000)),\n",
       "                ('SVM', SVC(C=8, gamma=0.1))])"
      ]
     },
     "metadata": {},
     "execution_count": 37
    }
   ],
   "source": [
    "grid_1.best_estimator_"
   ]
  },
  {
   "cell_type": "code",
   "execution_count": 42,
   "metadata": {},
   "outputs": [
    {
     "output_type": "stream",
     "name": "stdout",
     "text": [
      "score = 0.9583333333333334\n"
     ]
    }
   ],
   "source": [
    "print ('score = {}'.format(grid_1.score(X_val,y_val)))"
   ]
  },
  {
   "cell_type": "code",
   "execution_count": 38,
   "metadata": {},
   "outputs": [
    {
     "output_type": "execute_result",
     "data": {
      "text/plain": [
       "0.955787037037037"
      ]
     },
     "metadata": {},
     "execution_count": 38
    }
   ],
   "source": [
    "grid_1.best_score_"
   ]
  },
  {
   "cell_type": "code",
   "execution_count": 39,
   "metadata": {},
   "outputs": [
    {
     "output_type": "execute_result",
     "data": {
      "text/plain": [
       "{'SVM__C': 8, 'SVM__gamma': 0.1}"
      ]
     },
     "metadata": {},
     "execution_count": 39
    }
   ],
   "source": [
    "grid_1.best_params_"
   ]
  },
  {
   "cell_type": "code",
   "execution_count": 32,
   "metadata": {},
   "outputs": [
    {
     "output_type": "execute_result",
     "data": {
      "text/plain": [
       "{'mean_fit_time': array([18.10670729, 18.04227338, 14.33316116, 18.06691427, 10.12422137,\n",
       "        17.03641458,  7.44241834, 12.47033129,  6.16920238,  8.81699157,\n",
       "         5.50579805,  6.89995313,  5.40232816,  5.56106124,  6.12070284,\n",
       "         5.91296844,  5.27182593,  5.01787324,  5.15957389,  5.02461562,\n",
       "         5.68239231,  5.7431952 ]),\n",
       " 'std_fit_time': array([0.15403115, 0.03986476, 0.2283183 , 0.04222677, 0.08434027,\n",
       "        0.0721518 , 0.06705282, 0.16216345, 0.27058167, 0.07478873,\n",
       "        0.14105033, 0.53643653, 0.05134122, 0.04243356, 0.31610787,\n",
       "        0.54368361, 0.07348944, 0.09490478, 0.07495743, 0.10869974,\n",
       "        0.41636294, 0.56366898]),\n",
       " 'mean_score_time': array([4.25275607, 4.26442356, 3.39300137, 4.22298822, 2.25857763,\n",
       "        3.95798564, 1.62519226, 2.84746099, 1.29759793, 1.93660083,\n",
       "        1.12380109, 1.4179285 , 1.10071745, 1.17468233, 1.36000648,\n",
       "        1.11279941, 1.06847482, 0.97880764, 1.0472177 , 0.97459178,\n",
       "        1.28001108, 1.07321501]),\n",
       " 'std_score_time': array([0.02045538, 0.09291495, 0.16356256, 0.01110511, 0.03517124,\n",
       "        0.01996239, 0.03188047, 0.06142401, 0.08349571, 0.01344292,\n",
       "        0.02341522, 0.01396651, 0.01084154, 0.06351603, 0.08805107,\n",
       "        0.13967788, 0.02022515, 0.01678186, 0.01390704, 0.01621485,\n",
       "        0.24617743, 0.12514071]),\n",
       " 'param_SVM__C': masked_array(data=[0.03125, 0.03125, 0.125, 0.125, 0.5, 0.5, 2, 2, 8, 8,\n",
       "                    32, 32, 128, 128, 512, 512, 2048, 2048, 8192, 8192,\n",
       "                    32768, 32768],\n",
       "              mask=[False, False, False, False, False, False, False, False,\n",
       "                    False, False, False, False, False, False, False, False,\n",
       "                    False, False, False, False, False, False],\n",
       "        fill_value='?',\n",
       "             dtype=object),\n",
       " 'param_SVM__gamma': masked_array(data=[0.1, 0.01, 0.1, 0.01, 0.1, 0.01, 0.1, 0.01, 0.1, 0.01,\n",
       "                    0.1, 0.01, 0.1, 0.01, 0.1, 0.01, 0.1, 0.01, 0.1, 0.01,\n",
       "                    0.1, 0.01],\n",
       "              mask=[False, False, False, False, False, False, False, False,\n",
       "                    False, False, False, False, False, False, False, False,\n",
       "                    False, False, False, False, False, False],\n",
       "        fill_value='?',\n",
       "             dtype=object),\n",
       " 'params': [{'SVM__C': 0.03125, 'SVM__gamma': 0.1},\n",
       "  {'SVM__C': 0.03125, 'SVM__gamma': 0.01},\n",
       "  {'SVM__C': 0.125, 'SVM__gamma': 0.1},\n",
       "  {'SVM__C': 0.125, 'SVM__gamma': 0.01},\n",
       "  {'SVM__C': 0.5, 'SVM__gamma': 0.1},\n",
       "  {'SVM__C': 0.5, 'SVM__gamma': 0.01},\n",
       "  {'SVM__C': 2, 'SVM__gamma': 0.1},\n",
       "  {'SVM__C': 2, 'SVM__gamma': 0.01},\n",
       "  {'SVM__C': 8, 'SVM__gamma': 0.1},\n",
       "  {'SVM__C': 8, 'SVM__gamma': 0.01},\n",
       "  {'SVM__C': 32, 'SVM__gamma': 0.1},\n",
       "  {'SVM__C': 32, 'SVM__gamma': 0.01},\n",
       "  {'SVM__C': 128, 'SVM__gamma': 0.1},\n",
       "  {'SVM__C': 128, 'SVM__gamma': 0.01},\n",
       "  {'SVM__C': 512, 'SVM__gamma': 0.1},\n",
       "  {'SVM__C': 512, 'SVM__gamma': 0.01},\n",
       "  {'SVM__C': 2048, 'SVM__gamma': 0.1},\n",
       "  {'SVM__C': 2048, 'SVM__gamma': 0.01},\n",
       "  {'SVM__C': 8192, 'SVM__gamma': 0.1},\n",
       "  {'SVM__C': 8192, 'SVM__gamma': 0.01},\n",
       "  {'SVM__C': 32768, 'SVM__gamma': 0.1},\n",
       "  {'SVM__C': 32768, 'SVM__gamma': 0.01}],\n",
       " 'split0_test_score': array([0.82291667, 0.50231481, 0.91435185, 0.50231481, 0.94328704,\n",
       "        0.88194444, 0.94907407, 0.92592593, 0.94675926, 0.94560185,\n",
       "        0.94212963, 0.94675926, 0.9375    , 0.94212963, 0.9375    ,\n",
       "        0.93402778, 0.9375    , 0.92939815, 0.9375    , 0.92939815,\n",
       "        0.9375    , 0.92939815]),\n",
       " 'split1_test_score': array([0.85416667, 0.50231481, 0.9212963 , 0.50231481, 0.95138889,\n",
       "        0.90509259, 0.96412037, 0.93865741, 0.96990741, 0.9537037 ,\n",
       "        0.96643519, 0.96527778, 0.95717593, 0.97106481, 0.95717593,\n",
       "        0.95717593, 0.95717593, 0.9537037 , 0.95717593, 0.9537037 ,\n",
       "        0.95717593, 0.9537037 ]),\n",
       " 'split2_test_score': array([0.83796296, 0.50231481, 0.91203704, 0.50231481, 0.93171296,\n",
       "        0.88194444, 0.94328704, 0.92476852, 0.94675926, 0.93865741,\n",
       "        0.94791667, 0.95023148, 0.94097222, 0.94444444, 0.93981481,\n",
       "        0.94097222, 0.93981481, 0.93865741, 0.93981481, 0.93865741,\n",
       "        0.93981481, 0.93865741]),\n",
       " 'split3_test_score': array([0.85532407, 0.50347222, 0.90856481, 0.50347222, 0.93981481,\n",
       "        0.88773148, 0.95486111, 0.9224537 , 0.9537037 , 0.94444444,\n",
       "        0.95138889, 0.9525463 , 0.94097222, 0.95138889, 0.94097222,\n",
       "        0.94791667, 0.94097222, 0.93981481, 0.94097222, 0.93981481,\n",
       "        0.94097222, 0.93981481]),\n",
       " 'split4_test_score': array([0.8275463 , 0.50347222, 0.90972222, 0.50347222, 0.94791667,\n",
       "        0.88194444, 0.96527778, 0.93171296, 0.96180556, 0.9537037 ,\n",
       "        0.94907407, 0.96064815, 0.94328704, 0.95833333, 0.94328704,\n",
       "        0.94212963, 0.94328704, 0.93287037, 0.94328704, 0.93287037,\n",
       "        0.94328704, 0.93287037]),\n",
       " 'mean_test_score': array([0.83958333, 0.50277778, 0.91319444, 0.50277778, 0.94282407,\n",
       "        0.88773148, 0.95532407, 0.9287037 , 0.95578704, 0.94722222,\n",
       "        0.95138889, 0.95509259, 0.94398148, 0.95347222, 0.94375   ,\n",
       "        0.94444444, 0.94375   , 0.93888889, 0.94375   , 0.93888889,\n",
       "        0.94375   , 0.93888889]),\n",
       " 'std_test_score': array([0.01330968, 0.00056701, 0.0045124 , 0.00056701, 0.00681201,\n",
       "        0.00896524, 0.00849256, 0.00583774, 0.00897718, 0.00579166,\n",
       "        0.00811837, 0.0068434 , 0.00685123, 0.01046542, 0.00696755,\n",
       "        0.00774685, 0.00696755, 0.0083269 , 0.00696755, 0.0083269 ,\n",
       "        0.00696755, 0.0083269 ]),\n",
       " 'rank_test_score': array([20, 21, 18, 21, 13, 19,  2, 17,  1,  6,  5,  3,  8,  4,  9,  7,  9,\n",
       "        14,  9, 14,  9, 14])}"
      ]
     },
     "metadata": {},
     "execution_count": 32
    }
   ],
   "source": [
    "grid_1.cv_results_"
   ]
  },
  {
   "cell_type": "code",
   "execution_count": 57,
   "metadata": {},
   "outputs": [],
   "source": [
    "grid_1_results = pd.DataFrame.from_dict(grid_1.cv_results_)\n",
    "grid_1_results.to_pickle('./Dados/grid_1_results.pkl')"
   ]
  },
  {
   "cell_type": "code",
   "execution_count": 36,
   "metadata": {},
   "outputs": [
    {
     "output_type": "execute_result",
     "data": {
      "text/plain": [
       "<function sklearn.metrics._scorer._passthrough_scorer(estimator, *args, **kwargs)>"
      ]
     },
     "metadata": {},
     "execution_count": 36
    }
   ],
   "source": [
    "grid_1.scorer_"
   ]
  },
  {
   "cell_type": "code",
   "execution_count": 46,
   "metadata": {},
   "outputs": [
    {
     "output_type": "execute_result",
     "data": {
      "text/plain": [
       "GridSearchCV(cv=3,\n",
       "             estimator=Pipeline(steps=[('BoW',\n",
       "                                        TfidfVectorizer(lowercase=False,\n",
       "                                                        max_features=1000)),\n",
       "                                       ('SVM', SVC())]),\n",
       "             param_grid={'SVM__C': [0.03125, 0.125, 0.5, 2, 8, 32, 128, 512,\n",
       "                                    2048, 8192, 32768],\n",
       "                         'SVM__gamma': [0.1, 0.01]},\n",
       "             refit='f1', scoring=['accuracy', 'f1', 'precision', 'recall'])"
      ]
     },
     "metadata": {},
     "execution_count": 46
    }
   ],
   "source": [
    "scoring = ['accuracy','f1','precision','recall']\n",
    "grid_1a = GridSearchCV(pipeline_1, param_grid=parameteres, cv=3, scoring=scoring, refit='f1')\n",
    "grid_1a.fit(X_train, y_train)"
   ]
  },
  {
   "cell_type": "code",
   "execution_count": 58,
   "metadata": {},
   "outputs": [],
   "source": [
    "grid_1a_results = pd.DataFrame.from_dict(grid_1a.cv_results_)\n",
    "grid_1a_results.to_pickle('./Dados/grid_1a_results.pkl')"
   ]
  },
  {
   "cell_type": "code",
   "execution_count": 59,
   "metadata": {},
   "outputs": [
    {
     "output_type": "execute_result",
     "data": {
      "text/plain": [
       "    mean_fit_time  std_fit_time  mean_score_time  std_score_time param_SVM__C  \\\n",
       "0       26.156106      0.422332        12.927477        0.558941      0.03125   \n",
       "1       26.390735      0.673792        11.907019        0.215078      0.03125   \n",
       "2       21.691156      0.479460         9.808496        0.070186        0.125   \n",
       "3       25.723549      0.046107        11.939271        0.169456        0.125   \n",
       "4       15.741728      0.189923         7.084963        0.196899          0.5   \n",
       "5       24.594292      0.268399        11.851484        0.308614          0.5   \n",
       "6       11.438480      0.405897         5.047578        0.203290            2   \n",
       "7       18.608888      0.337119         8.373296        0.208979            2   \n",
       "8        9.158823      0.433606         3.926196        0.294065            8   \n",
       "9       13.102699      0.055137         5.887463        0.142158            8   \n",
       "10       8.731030      0.168914         3.763434        0.023416           32   \n",
       "11      10.752765      0.319296         4.750376        0.267174           32   \n",
       "12       8.561058      0.053007         3.529495        0.135073          128   \n",
       "13       8.437833      0.197895         3.505459        0.042002          128   \n",
       "14       7.997282      0.088460         3.341980        0.065524          512   \n",
       "15       7.793758      0.132445         3.145477        0.026932          512   \n",
       "16       8.038634      0.076317         3.344011        0.060370         2048   \n",
       "17       7.893853      0.129972         3.305518        0.103019         2048   \n",
       "18       8.574813      0.132880         3.632188        0.062554         8192   \n",
       "19       8.061654      0.091473         3.340893        0.102256         8192   \n",
       "20       8.332370      0.052381         3.517320        0.032894        32768   \n",
       "21       8.159019      0.086831         3.373332        0.095629        32768   \n",
       "\n",
       "   param_SVM__gamma                                   params  \\\n",
       "0               0.1   {'SVM__C': 0.03125, 'SVM__gamma': 0.1}   \n",
       "1              0.01  {'SVM__C': 0.03125, 'SVM__gamma': 0.01}   \n",
       "2               0.1     {'SVM__C': 0.125, 'SVM__gamma': 0.1}   \n",
       "3              0.01    {'SVM__C': 0.125, 'SVM__gamma': 0.01}   \n",
       "4               0.1       {'SVM__C': 0.5, 'SVM__gamma': 0.1}   \n",
       "5              0.01      {'SVM__C': 0.5, 'SVM__gamma': 0.01}   \n",
       "6               0.1         {'SVM__C': 2, 'SVM__gamma': 0.1}   \n",
       "7              0.01        {'SVM__C': 2, 'SVM__gamma': 0.01}   \n",
       "8               0.1         {'SVM__C': 8, 'SVM__gamma': 0.1}   \n",
       "9              0.01        {'SVM__C': 8, 'SVM__gamma': 0.01}   \n",
       "10              0.1        {'SVM__C': 32, 'SVM__gamma': 0.1}   \n",
       "11             0.01       {'SVM__C': 32, 'SVM__gamma': 0.01}   \n",
       "12              0.1       {'SVM__C': 128, 'SVM__gamma': 0.1}   \n",
       "13             0.01      {'SVM__C': 128, 'SVM__gamma': 0.01}   \n",
       "14              0.1       {'SVM__C': 512, 'SVM__gamma': 0.1}   \n",
       "15             0.01      {'SVM__C': 512, 'SVM__gamma': 0.01}   \n",
       "16              0.1      {'SVM__C': 2048, 'SVM__gamma': 0.1}   \n",
       "17             0.01     {'SVM__C': 2048, 'SVM__gamma': 0.01}   \n",
       "18              0.1      {'SVM__C': 8192, 'SVM__gamma': 0.1}   \n",
       "19             0.01     {'SVM__C': 8192, 'SVM__gamma': 0.01}   \n",
       "20              0.1     {'SVM__C': 32768, 'SVM__gamma': 0.1}   \n",
       "21             0.01    {'SVM__C': 32768, 'SVM__gamma': 0.01}   \n",
       "\n",
       "    split0_test_accuracy  split1_test_accuracy  split2_test_accuracy  ...  \\\n",
       "0               0.720833              0.719444              0.720139  ...   \n",
       "1               0.502778              0.502778              0.502778  ...   \n",
       "2               0.913194              0.898611              0.912500  ...   \n",
       "3               0.502778              0.502778              0.502778  ...   \n",
       "4               0.943750              0.929861              0.940972  ...   \n",
       "5               0.883333              0.875000              0.884722  ...   \n",
       "6               0.956250              0.947222              0.957639  ...   \n",
       "7               0.931944              0.915278              0.923611  ...   \n",
       "8               0.960417              0.951389              0.960417  ...   \n",
       "9               0.947222              0.938194              0.948611  ...   \n",
       "10              0.950694              0.939583              0.951389  ...   \n",
       "11              0.952778              0.952778              0.961806  ...   \n",
       "12              0.949306              0.936806              0.952083  ...   \n",
       "13              0.955556              0.948611              0.956944  ...   \n",
       "14              0.949306              0.936806              0.952083  ...   \n",
       "15              0.950000              0.936111              0.950694  ...   \n",
       "16              0.949306              0.936806              0.952083  ...   \n",
       "17              0.945833              0.931250              0.948611  ...   \n",
       "18              0.949306              0.936806              0.952083  ...   \n",
       "19              0.945833              0.931250              0.948611  ...   \n",
       "20              0.949306              0.936806              0.952083  ...   \n",
       "21              0.945833              0.931250              0.948611  ...   \n",
       "\n",
       "    split2_test_precision  mean_test_precision  std_test_precision  \\\n",
       "0                0.987539             0.983545            0.003749   \n",
       "1                0.000000             0.000000            0.000000   \n",
       "2                0.916667             0.906819            0.012390   \n",
       "3                0.000000             0.000000            0.000000   \n",
       "4                0.947518             0.940981            0.008572   \n",
       "5                0.914157             0.903034            0.017350   \n",
       "6                0.954230             0.951789            0.006249   \n",
       "7                0.929178             0.926423            0.009507   \n",
       "8                0.962132             0.960164            0.003739   \n",
       "9                0.952113             0.946685            0.006704   \n",
       "10               0.954930             0.954972            0.004135   \n",
       "11               0.962238             0.955335            0.004908   \n",
       "12               0.954993             0.953138            0.005403   \n",
       "13               0.961864             0.959432            0.003364   \n",
       "14               0.954993             0.953138            0.005403   \n",
       "15               0.954866             0.952667            0.006020   \n",
       "16               0.954993             0.953138            0.005403   \n",
       "17               0.950843             0.950596            0.006421   \n",
       "18               0.954993             0.953138            0.005403   \n",
       "19               0.950843             0.950596            0.006421   \n",
       "20               0.954993             0.953138            0.005403   \n",
       "21               0.950843             0.950596            0.006421   \n",
       "\n",
       "    rank_test_precision  split0_test_recall  split1_test_recall  \\\n",
       "0                     1            0.445531            0.445531   \n",
       "1                    21            0.000000            0.000000   \n",
       "2                    19            0.910615            0.909218   \n",
       "3                    21            0.000000            0.000000   \n",
       "4                    17            0.939944            0.930168   \n",
       "5                    20            0.842179            0.868715   \n",
       "6                    12            0.953911            0.951117   \n",
       "7                    18            0.925978            0.916201   \n",
       "8                     2            0.956704            0.946927   \n",
       "9                    16            0.942737            0.938547   \n",
       "10                    5            0.939944            0.927374   \n",
       "11                    4            0.952514            0.953911   \n",
       "12                    6            0.938547            0.925978   \n",
       "13                    3            0.948324            0.941341   \n",
       "14                    6            0.938547            0.925978   \n",
       "15                   11            0.939944            0.925978   \n",
       "16                    6            0.938547            0.925978   \n",
       "17                   13            0.931564            0.917598   \n",
       "18                    6            0.938547            0.925978   \n",
       "19                   13            0.931564            0.917598   \n",
       "20                    6            0.938547            0.925978   \n",
       "21                   13            0.931564            0.917598   \n",
       "\n",
       "    split2_test_recall  mean_test_recall  std_test_recall  rank_test_recall  \n",
       "0             0.442737          0.444600         0.001317                20  \n",
       "1             0.000000          0.000000         0.000000                21  \n",
       "2             0.906425          0.908752         0.001742                18  \n",
       "3             0.000000          0.000000         0.000000                21  \n",
       "4             0.932961          0.934358         0.004112                13  \n",
       "5             0.847765          0.852886         0.011423                19  \n",
       "6             0.960894          0.955307         0.004112                 2  \n",
       "7             0.916201          0.919460         0.004609                17  \n",
       "8             0.958101          0.953911         0.004971                 3  \n",
       "9             0.944134          0.941806         0.002374                 5  \n",
       "10            0.946927          0.938082         0.008090                 6  \n",
       "11            0.960894          0.955773         0.003666                 1  \n",
       "12            0.948324          0.937616         0.009147                 7  \n",
       "13            0.951117          0.946927         0.004112                 4  \n",
       "14            0.948324          0.937616         0.009147                 7  \n",
       "15            0.945531          0.937151         0.008223                12  \n",
       "16            0.948324          0.937616         0.009147                 7  \n",
       "17            0.945531          0.931564         0.011404                14  \n",
       "18            0.948324          0.937616         0.009147                 7  \n",
       "19            0.945531          0.931564         0.011404                14  \n",
       "20            0.948324          0.937616         0.009147                 7  \n",
       "21            0.945531          0.931564         0.011404                14  \n",
       "\n",
       "[22 rows x 31 columns]"
      ],
      "text/html": "<div>\n<style scoped>\n    .dataframe tbody tr th:only-of-type {\n        vertical-align: middle;\n    }\n\n    .dataframe tbody tr th {\n        vertical-align: top;\n    }\n\n    .dataframe thead th {\n        text-align: right;\n    }\n</style>\n<table border=\"1\" class=\"dataframe\">\n  <thead>\n    <tr style=\"text-align: right;\">\n      <th></th>\n      <th>mean_fit_time</th>\n      <th>std_fit_time</th>\n      <th>mean_score_time</th>\n      <th>std_score_time</th>\n      <th>param_SVM__C</th>\n      <th>param_SVM__gamma</th>\n      <th>params</th>\n      <th>split0_test_accuracy</th>\n      <th>split1_test_accuracy</th>\n      <th>split2_test_accuracy</th>\n      <th>...</th>\n      <th>split2_test_precision</th>\n      <th>mean_test_precision</th>\n      <th>std_test_precision</th>\n      <th>rank_test_precision</th>\n      <th>split0_test_recall</th>\n      <th>split1_test_recall</th>\n      <th>split2_test_recall</th>\n      <th>mean_test_recall</th>\n      <th>std_test_recall</th>\n      <th>rank_test_recall</th>\n    </tr>\n  </thead>\n  <tbody>\n    <tr>\n      <th>0</th>\n      <td>26.156106</td>\n      <td>0.422332</td>\n      <td>12.927477</td>\n      <td>0.558941</td>\n      <td>0.03125</td>\n      <td>0.1</td>\n      <td>{'SVM__C': 0.03125, 'SVM__gamma': 0.1}</td>\n      <td>0.720833</td>\n      <td>0.719444</td>\n      <td>0.720139</td>\n      <td>...</td>\n      <td>0.987539</td>\n      <td>0.983545</td>\n      <td>0.003749</td>\n      <td>1</td>\n      <td>0.445531</td>\n      <td>0.445531</td>\n      <td>0.442737</td>\n      <td>0.444600</td>\n      <td>0.001317</td>\n      <td>20</td>\n    </tr>\n    <tr>\n      <th>1</th>\n      <td>26.390735</td>\n      <td>0.673792</td>\n      <td>11.907019</td>\n      <td>0.215078</td>\n      <td>0.03125</td>\n      <td>0.01</td>\n      <td>{'SVM__C': 0.03125, 'SVM__gamma': 0.01}</td>\n      <td>0.502778</td>\n      <td>0.502778</td>\n      <td>0.502778</td>\n      <td>...</td>\n      <td>0.000000</td>\n      <td>0.000000</td>\n      <td>0.000000</td>\n      <td>21</td>\n      <td>0.000000</td>\n      <td>0.000000</td>\n      <td>0.000000</td>\n      <td>0.000000</td>\n      <td>0.000000</td>\n      <td>21</td>\n    </tr>\n    <tr>\n      <th>2</th>\n      <td>21.691156</td>\n      <td>0.479460</td>\n      <td>9.808496</td>\n      <td>0.070186</td>\n      <td>0.125</td>\n      <td>0.1</td>\n      <td>{'SVM__C': 0.125, 'SVM__gamma': 0.1}</td>\n      <td>0.913194</td>\n      <td>0.898611</td>\n      <td>0.912500</td>\n      <td>...</td>\n      <td>0.916667</td>\n      <td>0.906819</td>\n      <td>0.012390</td>\n      <td>19</td>\n      <td>0.910615</td>\n      <td>0.909218</td>\n      <td>0.906425</td>\n      <td>0.908752</td>\n      <td>0.001742</td>\n      <td>18</td>\n    </tr>\n    <tr>\n      <th>3</th>\n      <td>25.723549</td>\n      <td>0.046107</td>\n      <td>11.939271</td>\n      <td>0.169456</td>\n      <td>0.125</td>\n      <td>0.01</td>\n      <td>{'SVM__C': 0.125, 'SVM__gamma': 0.01}</td>\n      <td>0.502778</td>\n      <td>0.502778</td>\n      <td>0.502778</td>\n      <td>...</td>\n      <td>0.000000</td>\n      <td>0.000000</td>\n      <td>0.000000</td>\n      <td>21</td>\n      <td>0.000000</td>\n      <td>0.000000</td>\n      <td>0.000000</td>\n      <td>0.000000</td>\n      <td>0.000000</td>\n      <td>21</td>\n    </tr>\n    <tr>\n      <th>4</th>\n      <td>15.741728</td>\n      <td>0.189923</td>\n      <td>7.084963</td>\n      <td>0.196899</td>\n      <td>0.5</td>\n      <td>0.1</td>\n      <td>{'SVM__C': 0.5, 'SVM__gamma': 0.1}</td>\n      <td>0.943750</td>\n      <td>0.929861</td>\n      <td>0.940972</td>\n      <td>...</td>\n      <td>0.947518</td>\n      <td>0.940981</td>\n      <td>0.008572</td>\n      <td>17</td>\n      <td>0.939944</td>\n      <td>0.930168</td>\n      <td>0.932961</td>\n      <td>0.934358</td>\n      <td>0.004112</td>\n      <td>13</td>\n    </tr>\n    <tr>\n      <th>5</th>\n      <td>24.594292</td>\n      <td>0.268399</td>\n      <td>11.851484</td>\n      <td>0.308614</td>\n      <td>0.5</td>\n      <td>0.01</td>\n      <td>{'SVM__C': 0.5, 'SVM__gamma': 0.01}</td>\n      <td>0.883333</td>\n      <td>0.875000</td>\n      <td>0.884722</td>\n      <td>...</td>\n      <td>0.914157</td>\n      <td>0.903034</td>\n      <td>0.017350</td>\n      <td>20</td>\n      <td>0.842179</td>\n      <td>0.868715</td>\n      <td>0.847765</td>\n      <td>0.852886</td>\n      <td>0.011423</td>\n      <td>19</td>\n    </tr>\n    <tr>\n      <th>6</th>\n      <td>11.438480</td>\n      <td>0.405897</td>\n      <td>5.047578</td>\n      <td>0.203290</td>\n      <td>2</td>\n      <td>0.1</td>\n      <td>{'SVM__C': 2, 'SVM__gamma': 0.1}</td>\n      <td>0.956250</td>\n      <td>0.947222</td>\n      <td>0.957639</td>\n      <td>...</td>\n      <td>0.954230</td>\n      <td>0.951789</td>\n      <td>0.006249</td>\n      <td>12</td>\n      <td>0.953911</td>\n      <td>0.951117</td>\n      <td>0.960894</td>\n      <td>0.955307</td>\n      <td>0.004112</td>\n      <td>2</td>\n    </tr>\n    <tr>\n      <th>7</th>\n      <td>18.608888</td>\n      <td>0.337119</td>\n      <td>8.373296</td>\n      <td>0.208979</td>\n      <td>2</td>\n      <td>0.01</td>\n      <td>{'SVM__C': 2, 'SVM__gamma': 0.01}</td>\n      <td>0.931944</td>\n      <td>0.915278</td>\n      <td>0.923611</td>\n      <td>...</td>\n      <td>0.929178</td>\n      <td>0.926423</td>\n      <td>0.009507</td>\n      <td>18</td>\n      <td>0.925978</td>\n      <td>0.916201</td>\n      <td>0.916201</td>\n      <td>0.919460</td>\n      <td>0.004609</td>\n      <td>17</td>\n    </tr>\n    <tr>\n      <th>8</th>\n      <td>9.158823</td>\n      <td>0.433606</td>\n      <td>3.926196</td>\n      <td>0.294065</td>\n      <td>8</td>\n      <td>0.1</td>\n      <td>{'SVM__C': 8, 'SVM__gamma': 0.1}</td>\n      <td>0.960417</td>\n      <td>0.951389</td>\n      <td>0.960417</td>\n      <td>...</td>\n      <td>0.962132</td>\n      <td>0.960164</td>\n      <td>0.003739</td>\n      <td>2</td>\n      <td>0.956704</td>\n      <td>0.946927</td>\n      <td>0.958101</td>\n      <td>0.953911</td>\n      <td>0.004971</td>\n      <td>3</td>\n    </tr>\n    <tr>\n      <th>9</th>\n      <td>13.102699</td>\n      <td>0.055137</td>\n      <td>5.887463</td>\n      <td>0.142158</td>\n      <td>8</td>\n      <td>0.01</td>\n      <td>{'SVM__C': 8, 'SVM__gamma': 0.01}</td>\n      <td>0.947222</td>\n      <td>0.938194</td>\n      <td>0.948611</td>\n      <td>...</td>\n      <td>0.952113</td>\n      <td>0.946685</td>\n      <td>0.006704</td>\n      <td>16</td>\n      <td>0.942737</td>\n      <td>0.938547</td>\n      <td>0.944134</td>\n      <td>0.941806</td>\n      <td>0.002374</td>\n      <td>5</td>\n    </tr>\n    <tr>\n      <th>10</th>\n      <td>8.731030</td>\n      <td>0.168914</td>\n      <td>3.763434</td>\n      <td>0.023416</td>\n      <td>32</td>\n      <td>0.1</td>\n      <td>{'SVM__C': 32, 'SVM__gamma': 0.1}</td>\n      <td>0.950694</td>\n      <td>0.939583</td>\n      <td>0.951389</td>\n      <td>...</td>\n      <td>0.954930</td>\n      <td>0.954972</td>\n      <td>0.004135</td>\n      <td>5</td>\n      <td>0.939944</td>\n      <td>0.927374</td>\n      <td>0.946927</td>\n      <td>0.938082</td>\n      <td>0.008090</td>\n      <td>6</td>\n    </tr>\n    <tr>\n      <th>11</th>\n      <td>10.752765</td>\n      <td>0.319296</td>\n      <td>4.750376</td>\n      <td>0.267174</td>\n      <td>32</td>\n      <td>0.01</td>\n      <td>{'SVM__C': 32, 'SVM__gamma': 0.01}</td>\n      <td>0.952778</td>\n      <td>0.952778</td>\n      <td>0.961806</td>\n      <td>...</td>\n      <td>0.962238</td>\n      <td>0.955335</td>\n      <td>0.004908</td>\n      <td>4</td>\n      <td>0.952514</td>\n      <td>0.953911</td>\n      <td>0.960894</td>\n      <td>0.955773</td>\n      <td>0.003666</td>\n      <td>1</td>\n    </tr>\n    <tr>\n      <th>12</th>\n      <td>8.561058</td>\n      <td>0.053007</td>\n      <td>3.529495</td>\n      <td>0.135073</td>\n      <td>128</td>\n      <td>0.1</td>\n      <td>{'SVM__C': 128, 'SVM__gamma': 0.1}</td>\n      <td>0.949306</td>\n      <td>0.936806</td>\n      <td>0.952083</td>\n      <td>...</td>\n      <td>0.954993</td>\n      <td>0.953138</td>\n      <td>0.005403</td>\n      <td>6</td>\n      <td>0.938547</td>\n      <td>0.925978</td>\n      <td>0.948324</td>\n      <td>0.937616</td>\n      <td>0.009147</td>\n      <td>7</td>\n    </tr>\n    <tr>\n      <th>13</th>\n      <td>8.437833</td>\n      <td>0.197895</td>\n      <td>3.505459</td>\n      <td>0.042002</td>\n      <td>128</td>\n      <td>0.01</td>\n      <td>{'SVM__C': 128, 'SVM__gamma': 0.01}</td>\n      <td>0.955556</td>\n      <td>0.948611</td>\n      <td>0.956944</td>\n      <td>...</td>\n      <td>0.961864</td>\n      <td>0.959432</td>\n      <td>0.003364</td>\n      <td>3</td>\n      <td>0.948324</td>\n      <td>0.941341</td>\n      <td>0.951117</td>\n      <td>0.946927</td>\n      <td>0.004112</td>\n      <td>4</td>\n    </tr>\n    <tr>\n      <th>14</th>\n      <td>7.997282</td>\n      <td>0.088460</td>\n      <td>3.341980</td>\n      <td>0.065524</td>\n      <td>512</td>\n      <td>0.1</td>\n      <td>{'SVM__C': 512, 'SVM__gamma': 0.1}</td>\n      <td>0.949306</td>\n      <td>0.936806</td>\n      <td>0.952083</td>\n      <td>...</td>\n      <td>0.954993</td>\n      <td>0.953138</td>\n      <td>0.005403</td>\n      <td>6</td>\n      <td>0.938547</td>\n      <td>0.925978</td>\n      <td>0.948324</td>\n      <td>0.937616</td>\n      <td>0.009147</td>\n      <td>7</td>\n    </tr>\n    <tr>\n      <th>15</th>\n      <td>7.793758</td>\n      <td>0.132445</td>\n      <td>3.145477</td>\n      <td>0.026932</td>\n      <td>512</td>\n      <td>0.01</td>\n      <td>{'SVM__C': 512, 'SVM__gamma': 0.01}</td>\n      <td>0.950000</td>\n      <td>0.936111</td>\n      <td>0.950694</td>\n      <td>...</td>\n      <td>0.954866</td>\n      <td>0.952667</td>\n      <td>0.006020</td>\n      <td>11</td>\n      <td>0.939944</td>\n      <td>0.925978</td>\n      <td>0.945531</td>\n      <td>0.937151</td>\n      <td>0.008223</td>\n      <td>12</td>\n    </tr>\n    <tr>\n      <th>16</th>\n      <td>8.038634</td>\n      <td>0.076317</td>\n      <td>3.344011</td>\n      <td>0.060370</td>\n      <td>2048</td>\n      <td>0.1</td>\n      <td>{'SVM__C': 2048, 'SVM__gamma': 0.1}</td>\n      <td>0.949306</td>\n      <td>0.936806</td>\n      <td>0.952083</td>\n      <td>...</td>\n      <td>0.954993</td>\n      <td>0.953138</td>\n      <td>0.005403</td>\n      <td>6</td>\n      <td>0.938547</td>\n      <td>0.925978</td>\n      <td>0.948324</td>\n      <td>0.937616</td>\n      <td>0.009147</td>\n      <td>7</td>\n    </tr>\n    <tr>\n      <th>17</th>\n      <td>7.893853</td>\n      <td>0.129972</td>\n      <td>3.305518</td>\n      <td>0.103019</td>\n      <td>2048</td>\n      <td>0.01</td>\n      <td>{'SVM__C': 2048, 'SVM__gamma': 0.01}</td>\n      <td>0.945833</td>\n      <td>0.931250</td>\n      <td>0.948611</td>\n      <td>...</td>\n      <td>0.950843</td>\n      <td>0.950596</td>\n      <td>0.006421</td>\n      <td>13</td>\n      <td>0.931564</td>\n      <td>0.917598</td>\n      <td>0.945531</td>\n      <td>0.931564</td>\n      <td>0.011404</td>\n      <td>14</td>\n    </tr>\n    <tr>\n      <th>18</th>\n      <td>8.574813</td>\n      <td>0.132880</td>\n      <td>3.632188</td>\n      <td>0.062554</td>\n      <td>8192</td>\n      <td>0.1</td>\n      <td>{'SVM__C': 8192, 'SVM__gamma': 0.1}</td>\n      <td>0.949306</td>\n      <td>0.936806</td>\n      <td>0.952083</td>\n      <td>...</td>\n      <td>0.954993</td>\n      <td>0.953138</td>\n      <td>0.005403</td>\n      <td>6</td>\n      <td>0.938547</td>\n      <td>0.925978</td>\n      <td>0.948324</td>\n      <td>0.937616</td>\n      <td>0.009147</td>\n      <td>7</td>\n    </tr>\n    <tr>\n      <th>19</th>\n      <td>8.061654</td>\n      <td>0.091473</td>\n      <td>3.340893</td>\n      <td>0.102256</td>\n      <td>8192</td>\n      <td>0.01</td>\n      <td>{'SVM__C': 8192, 'SVM__gamma': 0.01}</td>\n      <td>0.945833</td>\n      <td>0.931250</td>\n      <td>0.948611</td>\n      <td>...</td>\n      <td>0.950843</td>\n      <td>0.950596</td>\n      <td>0.006421</td>\n      <td>13</td>\n      <td>0.931564</td>\n      <td>0.917598</td>\n      <td>0.945531</td>\n      <td>0.931564</td>\n      <td>0.011404</td>\n      <td>14</td>\n    </tr>\n    <tr>\n      <th>20</th>\n      <td>8.332370</td>\n      <td>0.052381</td>\n      <td>3.517320</td>\n      <td>0.032894</td>\n      <td>32768</td>\n      <td>0.1</td>\n      <td>{'SVM__C': 32768, 'SVM__gamma': 0.1}</td>\n      <td>0.949306</td>\n      <td>0.936806</td>\n      <td>0.952083</td>\n      <td>...</td>\n      <td>0.954993</td>\n      <td>0.953138</td>\n      <td>0.005403</td>\n      <td>6</td>\n      <td>0.938547</td>\n      <td>0.925978</td>\n      <td>0.948324</td>\n      <td>0.937616</td>\n      <td>0.009147</td>\n      <td>7</td>\n    </tr>\n    <tr>\n      <th>21</th>\n      <td>8.159019</td>\n      <td>0.086831</td>\n      <td>3.373332</td>\n      <td>0.095629</td>\n      <td>32768</td>\n      <td>0.01</td>\n      <td>{'SVM__C': 32768, 'SVM__gamma': 0.01}</td>\n      <td>0.945833</td>\n      <td>0.931250</td>\n      <td>0.948611</td>\n      <td>...</td>\n      <td>0.950843</td>\n      <td>0.950596</td>\n      <td>0.006421</td>\n      <td>13</td>\n      <td>0.931564</td>\n      <td>0.917598</td>\n      <td>0.945531</td>\n      <td>0.931564</td>\n      <td>0.011404</td>\n      <td>14</td>\n    </tr>\n  </tbody>\n</table>\n<p>22 rows × 31 columns</p>\n</div>"
     },
     "metadata": {},
     "execution_count": 59
    }
   ],
   "source": [
    "grid_1a_results"
   ]
  },
  {
   "source": [
    "# Outros"
   ],
   "cell_type": "markdown",
   "metadata": {}
  },
  {
   "cell_type": "code",
   "execution_count": 22,
   "metadata": {},
   "outputs": [],
   "source": [
    "X_train_BoW = Tfid_1.fit_transform(corpus)\n"
   ]
  },
  {
   "cell_type": "code",
   "execution_count": 26,
   "metadata": {},
   "outputs": [],
   "source": [
    "X_train_BoW = X_train_BoW.toarray()"
   ]
  },
  {
   "cell_type": "code",
   "execution_count": 27,
   "metadata": {},
   "outputs": [
    {
     "output_type": "execute_result",
     "data": {
      "text/plain": [
       "array([[0., 0., 0., ..., 0., 0., 0.],\n",
       "       [0., 0., 0., ..., 0., 0., 0.],\n",
       "       [0., 0., 0., ..., 0., 0., 0.],\n",
       "       ...,\n",
       "       [0., 0., 0., ..., 0., 0., 0.],\n",
       "       [0., 0., 0., ..., 0., 0., 0.],\n",
       "       [0., 0., 0., ..., 0., 0., 0.]])"
      ]
     },
     "metadata": {},
     "execution_count": 27
    }
   ],
   "source": [
    "X_train_BoW"
   ]
  },
  {
   "cell_type": "code",
   "execution_count": 28,
   "metadata": {},
   "outputs": [
    {
     "output_type": "execute_result",
     "data": {
      "text/plain": [
       "(4320, 66858)"
      ]
     },
     "metadata": {},
     "execution_count": 28
    }
   ],
   "source": [
    "X_train_BoW.shape"
   ]
  },
  {
   "cell_type": "code",
   "execution_count": 31,
   "metadata": {},
   "outputs": [
    {
     "output_type": "execute_result",
     "data": {
      "text/plain": [
       "SVC(kernel='linear')"
      ]
     },
     "metadata": {},
     "execution_count": 31
    }
   ],
   "source": [
    "model = SVC(kernel='linear')\n",
    "# model.fit(X_BoW,y_train)        #treinando o modelo"
   ]
  },
  {
   "cell_type": "code",
   "execution_count": 33,
   "metadata": {},
   "outputs": [],
   "source": [
    "cv_results = cross_validate(model, X_train_BoW, y_train)    #porcentagem de acertos do modelo\n",
    "print(cv_results['test_score']) "
   ]
  },
  {
   "cell_type": "code",
   "execution_count": null,
   "metadata": {},
   "outputs": [],
   "source": [
    "df"
   ]
  },
  {
   "source": [
    "# Bag of Words com Stopwords"
   ],
   "cell_type": "markdown",
   "metadata": {}
  },
  {
   "cell_type": "code",
   "execution_count": 15,
   "metadata": {},
   "outputs": [
    {
     "output_type": "stream",
     "name": "stderr",
     "text": [
      "[nltk_data] Downloading package stopwords to\n",
      "[nltk_data]     C:\\Users\\ELOGROUP\\AppData\\Roaming\\nltk_data...\n",
      "[nltk_data]   Unzipping corpora\\stopwords.zip.\n"
     ]
    }
   ],
   "source": [
    "nltk.download('stopwords')\n",
    "stopwords = nltk.corpus.stopwords.words('portuguese')"
   ]
  },
  {
   "cell_type": "code",
   "execution_count": 16,
   "metadata": {},
   "outputs": [],
   "source": [
    "vectorizer = CountVectorizer(analyzer = \"word\",\n",
    "                             tokenizer = None,\n",
    "                             preprocessor = None,\n",
    "                             stop_words = stopwords,\n",
    "                             max_features = None)"
   ]
  },
  {
   "cell_type": "code",
   "execution_count": 17,
   "metadata": {},
   "outputs": [],
   "source": [
    "X_BoW_stopwords = vectorizer.fit_transform(corpus)\n",
    "X_BoW_stopwords = X_BoW_stopwords.toarray()"
   ]
  },
  {
   "cell_type": "code",
   "execution_count": null,
   "metadata": {},
   "outputs": [],
   "source": [
    "X_Bow_stopwords.shape"
   ]
  },
  {
   "cell_type": "code",
   "execution_count": null,
   "metadata": {},
   "outputs": [],
   "source": [
    "# np.savetxt(\"./Dados/X_BoW_stopwords.csv\", X_BoW_stopwords, delimiter=\",\")"
   ]
  },
  {
   "source": [
    "# Bag of Words com Stopwords e Stemming"
   ],
   "cell_type": "markdown",
   "metadata": {}
  },
  {
   "cell_type": "code",
   "execution_count": 19,
   "metadata": {},
   "outputs": [
    {
     "output_type": "stream",
     "name": "stderr",
     "text": [
      "[nltk_data] Downloading package rslp to\n",
      "[nltk_data]     C:\\Users\\ELOGROUP\\AppData\\Roaming\\nltk_data...\n",
      "[nltk_data]   Unzipping stemmers\\rslp.zip.\n"
     ]
    }
   ],
   "source": [
    "nltk.download('rslp')\n",
    "stemmer = nltk.stem.RSLPStemmer()"
   ]
  },
  {
   "cell_type": "code",
   "execution_count": 20,
   "metadata": {},
   "outputs": [],
   "source": []
  },
  {
   "cell_type": "code",
   "execution_count": 21,
   "metadata": {},
   "outputs": [],
   "source": [
    "analyzer = CountVectorizer().build_analyzer()\n",
    "\n",
    "def stemmed_words(doc):\n",
    "    return (stemmer.stem(w) for w in analyzer(doc))"
   ]
  },
  {
   "cell_type": "code",
   "execution_count": 22,
   "metadata": {},
   "outputs": [],
   "source": [
    "'''\n",
    "vectorizer = CountVectorizer(analyzer=stemmed_words,\n",
    "                             tokenizer = None,\n",
    "                             preprocessor = None,\n",
    "                             stop_words = stopwords,\n",
    "                             max_features = None)\n",
    "'''"
   ]
  },
  {
   "cell_type": "code",
   "execution_count": 2,
   "metadata": {},
   "outputs": [],
   "source": [
    "vectorizer = TfidfVectorizer()"
   ]
  },
  {
   "cell_type": "code",
   "execution_count": 23,
   "metadata": {},
   "outputs": [],
   "source": [
    "X_BoW_stem = vectorizer.fit_transform(corpus)\n",
    "X_BoW_stem = X_BoW_stem.toarray()"
   ]
  },
  {
   "cell_type": "code",
   "execution_count": null,
   "metadata": {},
   "outputs": [],
   "source": [
    "X_Bow_stem.shape"
   ]
  },
  {
   "cell_type": "code",
   "execution_count": null,
   "metadata": {},
   "outputs": [],
   "source": [
    "# np.savetxt(\"./Dados/X_BoW_stem.csv\", X_BoW_stem, delimiter=\",\")"
   ]
  },
  {
   "cell_type": "code",
   "execution_count": null,
   "metadata": {},
   "outputs": [],
   "source": []
  },
  {
   "source": [
    "# Versão Atual"
   ],
   "cell_type": "markdown",
   "metadata": {}
  },
  {
   "source": [
    "## Dependencias"
   ],
   "cell_type": "markdown",
   "metadata": {}
  },
  {
   "cell_type": "code",
   "execution_count": 63,
   "metadata": {},
   "outputs": [
    {
     "output_type": "stream",
     "name": "stderr",
     "text": [
      "[nltk_data] Downloading package stopwords to\n",
      "[nltk_data]     C:\\Users\\ELOGROUP\\AppData\\Roaming\\nltk_data...\n",
      "[nltk_data]   Package stopwords is already up-to-date!\n",
      "[nltk_data] Downloading package rslp to\n",
      "[nltk_data]     C:\\Users\\ELOGROUP\\AppData\\Roaming\\nltk_data...\n",
      "[nltk_data]   Package rslp is already up-to-date!\n"
     ]
    }
   ],
   "source": [
    "# Pacote de stop words em português\n",
    "nltk.download('stopwords')\n",
    "stopwords = nltk.corpus.stopwords.words('portuguese')\n",
    "\n",
    "# Pacote de stemmers em portguês\n",
    "nltk.download('rslp')\n",
    "stemmer = nltk.stem.RSLPStemmer()\n",
    "\n",
    "# Stemmer\n",
    "analyzer = CountVectorizer().build_analyzer()\n",
    "\n",
    "def stemmed_words(doc):\n",
    "    return (stemmer.stem(w) for w in analyzer(doc))"
   ]
  },
  {
   "source": [
    "## Separação dos dados"
   ],
   "cell_type": "markdown",
   "metadata": {}
  },
  {
   "source": [
    "Os dados serão separados segundo os seguintes critérios:\n",
    "* 20% conjunto de teste (1440 amostras)\n",
    "* 80% conjunto de treinamento (5760 amostras)\n",
    "    * 1/3 conjunto de validação (1920 amostras)\n",
    "    * 2/3 conjunto de treino de algoritmo (3840 amostras)\n",
    "\n",
    "Obs: a subdivisão do conjunto de treinamento é feita dentro do GridSearch"
   ],
   "cell_type": "markdown",
   "metadata": {}
  },
  {
   "cell_type": "code",
   "execution_count": 61,
   "metadata": {},
   "outputs": [],
   "source": [
    "X_train, X_test, y_train, y_test = train_test_split(corpus, label, test_size=0.2, random_state=1)"
   ]
  },
  {
   "source": [
    "## Bag of Words"
   ],
   "cell_type": "markdown",
   "metadata": {}
  },
  {
   "cell_type": "code",
   "execution_count": 67,
   "metadata": {},
   "outputs": [],
   "source": [
    "Tfid = []\n",
    "\n",
    "Tfid.append(TfidfVectorizer(lowercase  = False,\n",
    "                            analyzer   = 'word',\n",
    "                            stop_words = None))\n",
    "\n",
    "Tfid.append(TfidfVectorizer(lowercase  = False,\n",
    "                            analyzer   = 'word',\n",
    "                            stop_words = stopwords))\n",
    "\n",
    "Tfid.append(TfidfVectorizer(lowercase  = False,\n",
    "                            analyzer   = stemmed_words,\n",
    "                            stop_words = stopwords))\n",
    "\n",
    "transform_name = ['Bow','Bow_stopwords','Bow_stopwords_stemming']"
   ]
  },
  {
   "cell_type": "code",
   "execution_count": 76,
   "metadata": {},
   "outputs": [],
   "source": [
    "# Set the parameters by cross-validation\n",
    "param_grid = [{'SVM__kernel': ['linear'],\n",
    "               'SVM__C': [2e-3, 2e-1, 2e1, 2e3, 2e5, 2e7, 2e9, 2e11, 2e13, 2e15]},\n",
    "\n",
    "              {'SVM__kernel': ['rbf'], \n",
    "               'SVM__gamma': [1e-1, 1e-2, 1e-3, 1e-4], \n",
    "               'SVM__C': [2e-3, 2e-1, 2e1, 2e3, 2e5, 2e7, 2e9, 2e11, 2e13, 2e15]}]"
   ]
  },
  {
   "cell_type": "code",
   "execution_count": 77,
   "metadata": {},
   "outputs": [],
   "source": [
    "scoring = ['accuracy','f1','precision','recall']"
   ]
  },
  {
   "cell_type": "code",
   "execution_count": 75,
   "metadata": {},
   "outputs": [
    {
     "output_type": "error",
     "ename": "ValueError",
     "evalue": "Invalid parameter C for estimator Pipeline(steps=[('Bow', TfidfVectorizer(lowercase=False)), ('SVM', SVC())]). Check the list of available parameters with `estimator.get_params().keys()`.",
     "traceback": [
      "\u001b[1;31m---------------------------------------------------------------------------\u001b[0m",
      "\u001b[1;31mValueError\u001b[0m                                Traceback (most recent call last)",
      "\u001b[1;32m<ipython-input-75-3203efc140f0>\u001b[0m in \u001b[0;36m<module>\u001b[1;34m\u001b[0m\n\u001b[0;32m      4\u001b[0m \u001b[1;33m\u001b[0m\u001b[0m\n\u001b[0;32m      5\u001b[0m     \u001b[0mgrid\u001b[0m \u001b[1;33m=\u001b[0m \u001b[0mGridSearchCV\u001b[0m\u001b[1;33m(\u001b[0m\u001b[0mpipeline\u001b[0m\u001b[1;33m,\u001b[0m \u001b[0mparam_grid\u001b[0m\u001b[1;33m=\u001b[0m\u001b[0mparam_grid\u001b[0m\u001b[1;33m,\u001b[0m \u001b[0mcv\u001b[0m\u001b[1;33m=\u001b[0m\u001b[1;36m3\u001b[0m\u001b[1;33m,\u001b[0m \u001b[0mscoring\u001b[0m\u001b[1;33m=\u001b[0m\u001b[0mscoring\u001b[0m\u001b[1;33m,\u001b[0m \u001b[0mrefit\u001b[0m\u001b[1;33m=\u001b[0m\u001b[1;34m'f1'\u001b[0m\u001b[1;33m)\u001b[0m\u001b[1;33m\u001b[0m\u001b[1;33m\u001b[0m\u001b[0m\n\u001b[1;32m----> 6\u001b[1;33m     \u001b[0mgrid\u001b[0m\u001b[1;33m.\u001b[0m\u001b[0mfit\u001b[0m\u001b[1;33m(\u001b[0m\u001b[0mX_train\u001b[0m\u001b[1;33m,\u001b[0m \u001b[0my_train\u001b[0m\u001b[1;33m)\u001b[0m\u001b[1;33m\u001b[0m\u001b[1;33m\u001b[0m\u001b[0m\n\u001b[0m\u001b[0;32m      7\u001b[0m \u001b[1;33m\u001b[0m\u001b[0m\n\u001b[0;32m      8\u001b[0m     \u001b[0mgrid_results\u001b[0m \u001b[1;33m=\u001b[0m \u001b[0mpd\u001b[0m\u001b[1;33m.\u001b[0m\u001b[0mDataFrame\u001b[0m\u001b[1;33m.\u001b[0m\u001b[0mfrom_dict\u001b[0m\u001b[1;33m(\u001b[0m\u001b[0mgrid\u001b[0m\u001b[1;33m.\u001b[0m\u001b[0mcv_results_\u001b[0m\u001b[1;33m)\u001b[0m\u001b[1;33m\u001b[0m\u001b[1;33m\u001b[0m\u001b[0m\n",
      "\u001b[1;32m~\\AppData\\Local\\Programs\\Python\\Python39\\lib\\site-packages\\sklearn\\utils\\validation.py\u001b[0m in \u001b[0;36minner_f\u001b[1;34m(*args, **kwargs)\u001b[0m\n\u001b[0;32m     61\u001b[0m             \u001b[0mextra_args\u001b[0m \u001b[1;33m=\u001b[0m \u001b[0mlen\u001b[0m\u001b[1;33m(\u001b[0m\u001b[0margs\u001b[0m\u001b[1;33m)\u001b[0m \u001b[1;33m-\u001b[0m \u001b[0mlen\u001b[0m\u001b[1;33m(\u001b[0m\u001b[0mall_args\u001b[0m\u001b[1;33m)\u001b[0m\u001b[1;33m\u001b[0m\u001b[1;33m\u001b[0m\u001b[0m\n\u001b[0;32m     62\u001b[0m             \u001b[1;32mif\u001b[0m \u001b[0mextra_args\u001b[0m \u001b[1;33m<=\u001b[0m \u001b[1;36m0\u001b[0m\u001b[1;33m:\u001b[0m\u001b[1;33m\u001b[0m\u001b[1;33m\u001b[0m\u001b[0m\n\u001b[1;32m---> 63\u001b[1;33m                 \u001b[1;32mreturn\u001b[0m \u001b[0mf\u001b[0m\u001b[1;33m(\u001b[0m\u001b[1;33m*\u001b[0m\u001b[0margs\u001b[0m\u001b[1;33m,\u001b[0m \u001b[1;33m**\u001b[0m\u001b[0mkwargs\u001b[0m\u001b[1;33m)\u001b[0m\u001b[1;33m\u001b[0m\u001b[1;33m\u001b[0m\u001b[0m\n\u001b[0m\u001b[0;32m     64\u001b[0m \u001b[1;33m\u001b[0m\u001b[0m\n\u001b[0;32m     65\u001b[0m             \u001b[1;31m# extra_args > 0\u001b[0m\u001b[1;33m\u001b[0m\u001b[1;33m\u001b[0m\u001b[1;33m\u001b[0m\u001b[0m\n",
      "\u001b[1;32m~\\AppData\\Local\\Programs\\Python\\Python39\\lib\\site-packages\\sklearn\\model_selection\\_search.py\u001b[0m in \u001b[0;36mfit\u001b[1;34m(self, X, y, groups, **fit_params)\u001b[0m\n\u001b[0;32m    839\u001b[0m                 \u001b[1;32mreturn\u001b[0m \u001b[0mresults\u001b[0m\u001b[1;33m\u001b[0m\u001b[1;33m\u001b[0m\u001b[0m\n\u001b[0;32m    840\u001b[0m \u001b[1;33m\u001b[0m\u001b[0m\n\u001b[1;32m--> 841\u001b[1;33m             \u001b[0mself\u001b[0m\u001b[1;33m.\u001b[0m\u001b[0m_run_search\u001b[0m\u001b[1;33m(\u001b[0m\u001b[0mevaluate_candidates\u001b[0m\u001b[1;33m)\u001b[0m\u001b[1;33m\u001b[0m\u001b[1;33m\u001b[0m\u001b[0m\n\u001b[0m\u001b[0;32m    842\u001b[0m \u001b[1;33m\u001b[0m\u001b[0m\n\u001b[0;32m    843\u001b[0m             \u001b[1;31m# multimetric is determined here because in the case of a callable\u001b[0m\u001b[1;33m\u001b[0m\u001b[1;33m\u001b[0m\u001b[1;33m\u001b[0m\u001b[0m\n",
      "\u001b[1;32m~\\AppData\\Local\\Programs\\Python\\Python39\\lib\\site-packages\\sklearn\\model_selection\\_search.py\u001b[0m in \u001b[0;36m_run_search\u001b[1;34m(self, evaluate_candidates)\u001b[0m\n\u001b[0;32m   1286\u001b[0m     \u001b[1;32mdef\u001b[0m \u001b[0m_run_search\u001b[0m\u001b[1;33m(\u001b[0m\u001b[0mself\u001b[0m\u001b[1;33m,\u001b[0m \u001b[0mevaluate_candidates\u001b[0m\u001b[1;33m)\u001b[0m\u001b[1;33m:\u001b[0m\u001b[1;33m\u001b[0m\u001b[1;33m\u001b[0m\u001b[0m\n\u001b[0;32m   1287\u001b[0m         \u001b[1;34m\"\"\"Search all candidates in param_grid\"\"\"\u001b[0m\u001b[1;33m\u001b[0m\u001b[1;33m\u001b[0m\u001b[0m\n\u001b[1;32m-> 1288\u001b[1;33m         \u001b[0mevaluate_candidates\u001b[0m\u001b[1;33m(\u001b[0m\u001b[0mParameterGrid\u001b[0m\u001b[1;33m(\u001b[0m\u001b[0mself\u001b[0m\u001b[1;33m.\u001b[0m\u001b[0mparam_grid\u001b[0m\u001b[1;33m)\u001b[0m\u001b[1;33m)\u001b[0m\u001b[1;33m\u001b[0m\u001b[1;33m\u001b[0m\u001b[0m\n\u001b[0m\u001b[0;32m   1289\u001b[0m \u001b[1;33m\u001b[0m\u001b[0m\n\u001b[0;32m   1290\u001b[0m \u001b[1;33m\u001b[0m\u001b[0m\n",
      "\u001b[1;32m~\\AppData\\Local\\Programs\\Python\\Python39\\lib\\site-packages\\sklearn\\model_selection\\_search.py\u001b[0m in \u001b[0;36mevaluate_candidates\u001b[1;34m(candidate_params, cv, more_results)\u001b[0m\n\u001b[0;32m    793\u001b[0m                               n_splits, n_candidates, n_candidates * n_splits))\n\u001b[0;32m    794\u001b[0m \u001b[1;33m\u001b[0m\u001b[0m\n\u001b[1;32m--> 795\u001b[1;33m                 out = parallel(delayed(_fit_and_score)(clone(base_estimator),\n\u001b[0m\u001b[0;32m    796\u001b[0m                                                        \u001b[0mX\u001b[0m\u001b[1;33m,\u001b[0m \u001b[0my\u001b[0m\u001b[1;33m,\u001b[0m\u001b[1;33m\u001b[0m\u001b[1;33m\u001b[0m\u001b[0m\n\u001b[0;32m    797\u001b[0m                                                        \u001b[0mtrain\u001b[0m\u001b[1;33m=\u001b[0m\u001b[0mtrain\u001b[0m\u001b[1;33m,\u001b[0m \u001b[0mtest\u001b[0m\u001b[1;33m=\u001b[0m\u001b[0mtest\u001b[0m\u001b[1;33m,\u001b[0m\u001b[1;33m\u001b[0m\u001b[1;33m\u001b[0m\u001b[0m\n",
      "\u001b[1;32m~\\AppData\\Local\\Programs\\Python\\Python39\\lib\\site-packages\\joblib\\parallel.py\u001b[0m in \u001b[0;36m__call__\u001b[1;34m(self, iterable)\u001b[0m\n\u001b[0;32m   1039\u001b[0m             \u001b[1;31m# remaining jobs.\u001b[0m\u001b[1;33m\u001b[0m\u001b[1;33m\u001b[0m\u001b[1;33m\u001b[0m\u001b[0m\n\u001b[0;32m   1040\u001b[0m             \u001b[0mself\u001b[0m\u001b[1;33m.\u001b[0m\u001b[0m_iterating\u001b[0m \u001b[1;33m=\u001b[0m \u001b[1;32mFalse\u001b[0m\u001b[1;33m\u001b[0m\u001b[1;33m\u001b[0m\u001b[0m\n\u001b[1;32m-> 1041\u001b[1;33m             \u001b[1;32mif\u001b[0m \u001b[0mself\u001b[0m\u001b[1;33m.\u001b[0m\u001b[0mdispatch_one_batch\u001b[0m\u001b[1;33m(\u001b[0m\u001b[0miterator\u001b[0m\u001b[1;33m)\u001b[0m\u001b[1;33m:\u001b[0m\u001b[1;33m\u001b[0m\u001b[1;33m\u001b[0m\u001b[0m\n\u001b[0m\u001b[0;32m   1042\u001b[0m                 \u001b[0mself\u001b[0m\u001b[1;33m.\u001b[0m\u001b[0m_iterating\u001b[0m \u001b[1;33m=\u001b[0m \u001b[0mself\u001b[0m\u001b[1;33m.\u001b[0m\u001b[0m_original_iterator\u001b[0m \u001b[1;32mis\u001b[0m \u001b[1;32mnot\u001b[0m \u001b[1;32mNone\u001b[0m\u001b[1;33m\u001b[0m\u001b[1;33m\u001b[0m\u001b[0m\n\u001b[0;32m   1043\u001b[0m \u001b[1;33m\u001b[0m\u001b[0m\n",
      "\u001b[1;32m~\\AppData\\Local\\Programs\\Python\\Python39\\lib\\site-packages\\joblib\\parallel.py\u001b[0m in \u001b[0;36mdispatch_one_batch\u001b[1;34m(self, iterator)\u001b[0m\n\u001b[0;32m    857\u001b[0m                 \u001b[1;32mreturn\u001b[0m \u001b[1;32mFalse\u001b[0m\u001b[1;33m\u001b[0m\u001b[1;33m\u001b[0m\u001b[0m\n\u001b[0;32m    858\u001b[0m             \u001b[1;32melse\u001b[0m\u001b[1;33m:\u001b[0m\u001b[1;33m\u001b[0m\u001b[1;33m\u001b[0m\u001b[0m\n\u001b[1;32m--> 859\u001b[1;33m                 \u001b[0mself\u001b[0m\u001b[1;33m.\u001b[0m\u001b[0m_dispatch\u001b[0m\u001b[1;33m(\u001b[0m\u001b[0mtasks\u001b[0m\u001b[1;33m)\u001b[0m\u001b[1;33m\u001b[0m\u001b[1;33m\u001b[0m\u001b[0m\n\u001b[0m\u001b[0;32m    860\u001b[0m                 \u001b[1;32mreturn\u001b[0m \u001b[1;32mTrue\u001b[0m\u001b[1;33m\u001b[0m\u001b[1;33m\u001b[0m\u001b[0m\n\u001b[0;32m    861\u001b[0m \u001b[1;33m\u001b[0m\u001b[0m\n",
      "\u001b[1;32m~\\AppData\\Local\\Programs\\Python\\Python39\\lib\\site-packages\\joblib\\parallel.py\u001b[0m in \u001b[0;36m_dispatch\u001b[1;34m(self, batch)\u001b[0m\n\u001b[0;32m    775\u001b[0m         \u001b[1;32mwith\u001b[0m \u001b[0mself\u001b[0m\u001b[1;33m.\u001b[0m\u001b[0m_lock\u001b[0m\u001b[1;33m:\u001b[0m\u001b[1;33m\u001b[0m\u001b[1;33m\u001b[0m\u001b[0m\n\u001b[0;32m    776\u001b[0m             \u001b[0mjob_idx\u001b[0m \u001b[1;33m=\u001b[0m \u001b[0mlen\u001b[0m\u001b[1;33m(\u001b[0m\u001b[0mself\u001b[0m\u001b[1;33m.\u001b[0m\u001b[0m_jobs\u001b[0m\u001b[1;33m)\u001b[0m\u001b[1;33m\u001b[0m\u001b[1;33m\u001b[0m\u001b[0m\n\u001b[1;32m--> 777\u001b[1;33m             \u001b[0mjob\u001b[0m \u001b[1;33m=\u001b[0m \u001b[0mself\u001b[0m\u001b[1;33m.\u001b[0m\u001b[0m_backend\u001b[0m\u001b[1;33m.\u001b[0m\u001b[0mapply_async\u001b[0m\u001b[1;33m(\u001b[0m\u001b[0mbatch\u001b[0m\u001b[1;33m,\u001b[0m \u001b[0mcallback\u001b[0m\u001b[1;33m=\u001b[0m\u001b[0mcb\u001b[0m\u001b[1;33m)\u001b[0m\u001b[1;33m\u001b[0m\u001b[1;33m\u001b[0m\u001b[0m\n\u001b[0m\u001b[0;32m    778\u001b[0m             \u001b[1;31m# A job can complete so quickly than its callback is\u001b[0m\u001b[1;33m\u001b[0m\u001b[1;33m\u001b[0m\u001b[1;33m\u001b[0m\u001b[0m\n\u001b[0;32m    779\u001b[0m             \u001b[1;31m# called before we get here, causing self._jobs to\u001b[0m\u001b[1;33m\u001b[0m\u001b[1;33m\u001b[0m\u001b[1;33m\u001b[0m\u001b[0m\n",
      "\u001b[1;32m~\\AppData\\Local\\Programs\\Python\\Python39\\lib\\site-packages\\joblib\\_parallel_backends.py\u001b[0m in \u001b[0;36mapply_async\u001b[1;34m(self, func, callback)\u001b[0m\n\u001b[0;32m    206\u001b[0m     \u001b[1;32mdef\u001b[0m \u001b[0mapply_async\u001b[0m\u001b[1;33m(\u001b[0m\u001b[0mself\u001b[0m\u001b[1;33m,\u001b[0m \u001b[0mfunc\u001b[0m\u001b[1;33m,\u001b[0m \u001b[0mcallback\u001b[0m\u001b[1;33m=\u001b[0m\u001b[1;32mNone\u001b[0m\u001b[1;33m)\u001b[0m\u001b[1;33m:\u001b[0m\u001b[1;33m\u001b[0m\u001b[1;33m\u001b[0m\u001b[0m\n\u001b[0;32m    207\u001b[0m         \u001b[1;34m\"\"\"Schedule a func to be run\"\"\"\u001b[0m\u001b[1;33m\u001b[0m\u001b[1;33m\u001b[0m\u001b[0m\n\u001b[1;32m--> 208\u001b[1;33m         \u001b[0mresult\u001b[0m \u001b[1;33m=\u001b[0m \u001b[0mImmediateResult\u001b[0m\u001b[1;33m(\u001b[0m\u001b[0mfunc\u001b[0m\u001b[1;33m)\u001b[0m\u001b[1;33m\u001b[0m\u001b[1;33m\u001b[0m\u001b[0m\n\u001b[0m\u001b[0;32m    209\u001b[0m         \u001b[1;32mif\u001b[0m \u001b[0mcallback\u001b[0m\u001b[1;33m:\u001b[0m\u001b[1;33m\u001b[0m\u001b[1;33m\u001b[0m\u001b[0m\n\u001b[0;32m    210\u001b[0m             \u001b[0mcallback\u001b[0m\u001b[1;33m(\u001b[0m\u001b[0mresult\u001b[0m\u001b[1;33m)\u001b[0m\u001b[1;33m\u001b[0m\u001b[1;33m\u001b[0m\u001b[0m\n",
      "\u001b[1;32m~\\AppData\\Local\\Programs\\Python\\Python39\\lib\\site-packages\\joblib\\_parallel_backends.py\u001b[0m in \u001b[0;36m__init__\u001b[1;34m(self, batch)\u001b[0m\n\u001b[0;32m    570\u001b[0m         \u001b[1;31m# Don't delay the application, to avoid keeping the input\u001b[0m\u001b[1;33m\u001b[0m\u001b[1;33m\u001b[0m\u001b[1;33m\u001b[0m\u001b[0m\n\u001b[0;32m    571\u001b[0m         \u001b[1;31m# arguments in memory\u001b[0m\u001b[1;33m\u001b[0m\u001b[1;33m\u001b[0m\u001b[1;33m\u001b[0m\u001b[0m\n\u001b[1;32m--> 572\u001b[1;33m         \u001b[0mself\u001b[0m\u001b[1;33m.\u001b[0m\u001b[0mresults\u001b[0m \u001b[1;33m=\u001b[0m \u001b[0mbatch\u001b[0m\u001b[1;33m(\u001b[0m\u001b[1;33m)\u001b[0m\u001b[1;33m\u001b[0m\u001b[1;33m\u001b[0m\u001b[0m\n\u001b[0m\u001b[0;32m    573\u001b[0m \u001b[1;33m\u001b[0m\u001b[0m\n\u001b[0;32m    574\u001b[0m     \u001b[1;32mdef\u001b[0m \u001b[0mget\u001b[0m\u001b[1;33m(\u001b[0m\u001b[0mself\u001b[0m\u001b[1;33m)\u001b[0m\u001b[1;33m:\u001b[0m\u001b[1;33m\u001b[0m\u001b[1;33m\u001b[0m\u001b[0m\n",
      "\u001b[1;32m~\\AppData\\Local\\Programs\\Python\\Python39\\lib\\site-packages\\joblib\\parallel.py\u001b[0m in \u001b[0;36m__call__\u001b[1;34m(self)\u001b[0m\n\u001b[0;32m    260\u001b[0m         \u001b[1;31m# change the default number of processes to -1\u001b[0m\u001b[1;33m\u001b[0m\u001b[1;33m\u001b[0m\u001b[1;33m\u001b[0m\u001b[0m\n\u001b[0;32m    261\u001b[0m         \u001b[1;32mwith\u001b[0m \u001b[0mparallel_backend\u001b[0m\u001b[1;33m(\u001b[0m\u001b[0mself\u001b[0m\u001b[1;33m.\u001b[0m\u001b[0m_backend\u001b[0m\u001b[1;33m,\u001b[0m \u001b[0mn_jobs\u001b[0m\u001b[1;33m=\u001b[0m\u001b[0mself\u001b[0m\u001b[1;33m.\u001b[0m\u001b[0m_n_jobs\u001b[0m\u001b[1;33m)\u001b[0m\u001b[1;33m:\u001b[0m\u001b[1;33m\u001b[0m\u001b[1;33m\u001b[0m\u001b[0m\n\u001b[1;32m--> 262\u001b[1;33m             return [func(*args, **kwargs)\n\u001b[0m\u001b[0;32m    263\u001b[0m                     for func, args, kwargs in self.items]\n\u001b[0;32m    264\u001b[0m \u001b[1;33m\u001b[0m\u001b[0m\n",
      "\u001b[1;32m~\\AppData\\Local\\Programs\\Python\\Python39\\lib\\site-packages\\joblib\\parallel.py\u001b[0m in \u001b[0;36m<listcomp>\u001b[1;34m(.0)\u001b[0m\n\u001b[0;32m    260\u001b[0m         \u001b[1;31m# change the default number of processes to -1\u001b[0m\u001b[1;33m\u001b[0m\u001b[1;33m\u001b[0m\u001b[1;33m\u001b[0m\u001b[0m\n\u001b[0;32m    261\u001b[0m         \u001b[1;32mwith\u001b[0m \u001b[0mparallel_backend\u001b[0m\u001b[1;33m(\u001b[0m\u001b[0mself\u001b[0m\u001b[1;33m.\u001b[0m\u001b[0m_backend\u001b[0m\u001b[1;33m,\u001b[0m \u001b[0mn_jobs\u001b[0m\u001b[1;33m=\u001b[0m\u001b[0mself\u001b[0m\u001b[1;33m.\u001b[0m\u001b[0m_n_jobs\u001b[0m\u001b[1;33m)\u001b[0m\u001b[1;33m:\u001b[0m\u001b[1;33m\u001b[0m\u001b[1;33m\u001b[0m\u001b[0m\n\u001b[1;32m--> 262\u001b[1;33m             return [func(*args, **kwargs)\n\u001b[0m\u001b[0;32m    263\u001b[0m                     for func, args, kwargs in self.items]\n\u001b[0;32m    264\u001b[0m \u001b[1;33m\u001b[0m\u001b[0m\n",
      "\u001b[1;32m~\\AppData\\Local\\Programs\\Python\\Python39\\lib\\site-packages\\sklearn\\utils\\fixes.py\u001b[0m in \u001b[0;36m__call__\u001b[1;34m(self, *args, **kwargs)\u001b[0m\n\u001b[0;32m    220\u001b[0m     \u001b[1;32mdef\u001b[0m \u001b[0m__call__\u001b[0m\u001b[1;33m(\u001b[0m\u001b[0mself\u001b[0m\u001b[1;33m,\u001b[0m \u001b[1;33m*\u001b[0m\u001b[0margs\u001b[0m\u001b[1;33m,\u001b[0m \u001b[1;33m**\u001b[0m\u001b[0mkwargs\u001b[0m\u001b[1;33m)\u001b[0m\u001b[1;33m:\u001b[0m\u001b[1;33m\u001b[0m\u001b[1;33m\u001b[0m\u001b[0m\n\u001b[0;32m    221\u001b[0m         \u001b[1;32mwith\u001b[0m \u001b[0mconfig_context\u001b[0m\u001b[1;33m(\u001b[0m\u001b[1;33m**\u001b[0m\u001b[0mself\u001b[0m\u001b[1;33m.\u001b[0m\u001b[0mconfig\u001b[0m\u001b[1;33m)\u001b[0m\u001b[1;33m:\u001b[0m\u001b[1;33m\u001b[0m\u001b[1;33m\u001b[0m\u001b[0m\n\u001b[1;32m--> 222\u001b[1;33m             \u001b[1;32mreturn\u001b[0m \u001b[0mself\u001b[0m\u001b[1;33m.\u001b[0m\u001b[0mfunction\u001b[0m\u001b[1;33m(\u001b[0m\u001b[1;33m*\u001b[0m\u001b[0margs\u001b[0m\u001b[1;33m,\u001b[0m \u001b[1;33m**\u001b[0m\u001b[0mkwargs\u001b[0m\u001b[1;33m)\u001b[0m\u001b[1;33m\u001b[0m\u001b[1;33m\u001b[0m\u001b[0m\n\u001b[0m",
      "\u001b[1;32m~\\AppData\\Local\\Programs\\Python\\Python39\\lib\\site-packages\\sklearn\\model_selection\\_validation.py\u001b[0m in \u001b[0;36m_fit_and_score\u001b[1;34m(estimator, X, y, scorer, train, test, verbose, parameters, fit_params, return_train_score, return_parameters, return_n_test_samples, return_times, return_estimator, split_progress, candidate_progress, error_score)\u001b[0m\n\u001b[0;32m    579\u001b[0m             \u001b[0mcloned_parameters\u001b[0m\u001b[1;33m[\u001b[0m\u001b[0mk\u001b[0m\u001b[1;33m]\u001b[0m \u001b[1;33m=\u001b[0m \u001b[0mclone\u001b[0m\u001b[1;33m(\u001b[0m\u001b[0mv\u001b[0m\u001b[1;33m,\u001b[0m \u001b[0msafe\u001b[0m\u001b[1;33m=\u001b[0m\u001b[1;32mFalse\u001b[0m\u001b[1;33m)\u001b[0m\u001b[1;33m\u001b[0m\u001b[1;33m\u001b[0m\u001b[0m\n\u001b[0;32m    580\u001b[0m \u001b[1;33m\u001b[0m\u001b[0m\n\u001b[1;32m--> 581\u001b[1;33m         \u001b[0mestimator\u001b[0m \u001b[1;33m=\u001b[0m \u001b[0mestimator\u001b[0m\u001b[1;33m.\u001b[0m\u001b[0mset_params\u001b[0m\u001b[1;33m(\u001b[0m\u001b[1;33m**\u001b[0m\u001b[0mcloned_parameters\u001b[0m\u001b[1;33m)\u001b[0m\u001b[1;33m\u001b[0m\u001b[1;33m\u001b[0m\u001b[0m\n\u001b[0m\u001b[0;32m    582\u001b[0m \u001b[1;33m\u001b[0m\u001b[0m\n\u001b[0;32m    583\u001b[0m     \u001b[0mstart_time\u001b[0m \u001b[1;33m=\u001b[0m \u001b[0mtime\u001b[0m\u001b[1;33m.\u001b[0m\u001b[0mtime\u001b[0m\u001b[1;33m(\u001b[0m\u001b[1;33m)\u001b[0m\u001b[1;33m\u001b[0m\u001b[1;33m\u001b[0m\u001b[0m\n",
      "\u001b[1;32m~\\AppData\\Local\\Programs\\Python\\Python39\\lib\\site-packages\\sklearn\\pipeline.py\u001b[0m in \u001b[0;36mset_params\u001b[1;34m(self, **kwargs)\u001b[0m\n\u001b[0;32m    148\u001b[0m         \u001b[0mself\u001b[0m\u001b[1;33m\u001b[0m\u001b[1;33m\u001b[0m\u001b[0m\n\u001b[0;32m    149\u001b[0m         \"\"\"\n\u001b[1;32m--> 150\u001b[1;33m         \u001b[0mself\u001b[0m\u001b[1;33m.\u001b[0m\u001b[0m_set_params\u001b[0m\u001b[1;33m(\u001b[0m\u001b[1;34m'steps'\u001b[0m\u001b[1;33m,\u001b[0m \u001b[1;33m**\u001b[0m\u001b[0mkwargs\u001b[0m\u001b[1;33m)\u001b[0m\u001b[1;33m\u001b[0m\u001b[1;33m\u001b[0m\u001b[0m\n\u001b[0m\u001b[0;32m    151\u001b[0m         \u001b[1;32mreturn\u001b[0m \u001b[0mself\u001b[0m\u001b[1;33m\u001b[0m\u001b[1;33m\u001b[0m\u001b[0m\n\u001b[0;32m    152\u001b[0m \u001b[1;33m\u001b[0m\u001b[0m\n",
      "\u001b[1;32m~\\AppData\\Local\\Programs\\Python\\Python39\\lib\\site-packages\\sklearn\\utils\\metaestimators.py\u001b[0m in \u001b[0;36m_set_params\u001b[1;34m(self, attr, **params)\u001b[0m\n\u001b[0;32m     52\u001b[0m                 \u001b[0mself\u001b[0m\u001b[1;33m.\u001b[0m\u001b[0m_replace_estimator\u001b[0m\u001b[1;33m(\u001b[0m\u001b[0mattr\u001b[0m\u001b[1;33m,\u001b[0m \u001b[0mname\u001b[0m\u001b[1;33m,\u001b[0m \u001b[0mparams\u001b[0m\u001b[1;33m.\u001b[0m\u001b[0mpop\u001b[0m\u001b[1;33m(\u001b[0m\u001b[0mname\u001b[0m\u001b[1;33m)\u001b[0m\u001b[1;33m)\u001b[0m\u001b[1;33m\u001b[0m\u001b[1;33m\u001b[0m\u001b[0m\n\u001b[0;32m     53\u001b[0m         \u001b[1;31m# 3. Step parameters and other initialisation arguments\u001b[0m\u001b[1;33m\u001b[0m\u001b[1;33m\u001b[0m\u001b[1;33m\u001b[0m\u001b[0m\n\u001b[1;32m---> 54\u001b[1;33m         \u001b[0msuper\u001b[0m\u001b[1;33m(\u001b[0m\u001b[1;33m)\u001b[0m\u001b[1;33m.\u001b[0m\u001b[0mset_params\u001b[0m\u001b[1;33m(\u001b[0m\u001b[1;33m**\u001b[0m\u001b[0mparams\u001b[0m\u001b[1;33m)\u001b[0m\u001b[1;33m\u001b[0m\u001b[1;33m\u001b[0m\u001b[0m\n\u001b[0m\u001b[0;32m     55\u001b[0m         \u001b[1;32mreturn\u001b[0m \u001b[0mself\u001b[0m\u001b[1;33m\u001b[0m\u001b[1;33m\u001b[0m\u001b[0m\n\u001b[0;32m     56\u001b[0m \u001b[1;33m\u001b[0m\u001b[0m\n",
      "\u001b[1;32m~\\AppData\\Local\\Programs\\Python\\Python39\\lib\\site-packages\\sklearn\\base.py\u001b[0m in \u001b[0;36mset_params\u001b[1;34m(self, **params)\u001b[0m\n\u001b[0;32m    228\u001b[0m             \u001b[0mkey\u001b[0m\u001b[1;33m,\u001b[0m \u001b[0mdelim\u001b[0m\u001b[1;33m,\u001b[0m \u001b[0msub_key\u001b[0m \u001b[1;33m=\u001b[0m \u001b[0mkey\u001b[0m\u001b[1;33m.\u001b[0m\u001b[0mpartition\u001b[0m\u001b[1;33m(\u001b[0m\u001b[1;34m'__'\u001b[0m\u001b[1;33m)\u001b[0m\u001b[1;33m\u001b[0m\u001b[1;33m\u001b[0m\u001b[0m\n\u001b[0;32m    229\u001b[0m             \u001b[1;32mif\u001b[0m \u001b[0mkey\u001b[0m \u001b[1;32mnot\u001b[0m \u001b[1;32min\u001b[0m \u001b[0mvalid_params\u001b[0m\u001b[1;33m:\u001b[0m\u001b[1;33m\u001b[0m\u001b[1;33m\u001b[0m\u001b[0m\n\u001b[1;32m--> 230\u001b[1;33m                 raise ValueError('Invalid parameter %s for estimator %s. '\n\u001b[0m\u001b[0;32m    231\u001b[0m                                  \u001b[1;34m'Check the list of available parameters '\u001b[0m\u001b[1;33m\u001b[0m\u001b[1;33m\u001b[0m\u001b[0m\n\u001b[0;32m    232\u001b[0m                                  \u001b[1;34m'with `estimator.get_params().keys()`.'\u001b[0m \u001b[1;33m%\u001b[0m\u001b[1;33m\u001b[0m\u001b[1;33m\u001b[0m\u001b[0m\n",
      "\u001b[1;31mValueError\u001b[0m: Invalid parameter C for estimator Pipeline(steps=[('Bow', TfidfVectorizer(lowercase=False)), ('SVM', SVC())]). Check the list of available parameters with `estimator.get_params().keys()`."
     ]
    }
   ],
   "source": [
    "for i in range(0,3):\n",
    "    steps = [(transform_name[i], Tfid[i]), ('SVM', SVC())]\n",
    "    pipeline = Pipeline(steps)\n",
    "\n",
    "    grid = GridSearchCV(pipeline, param_grid=param_grid, cv=3, scoring=scoring, refit='f1')\n",
    "    grid.fit(X_train, y_train)\n",
    "\n",
    "    grid_results = pd.DataFrame.from_dict(grid.cv_results_)\n",
    "    grid_results.to_pickle(f'./Resultados/grid_{i}_results.pkl')"
   ]
  },
  {
   "cell_type": "code",
   "execution_count": null,
   "metadata": {},
   "outputs": [],
   "source": []
  }
 ]
}